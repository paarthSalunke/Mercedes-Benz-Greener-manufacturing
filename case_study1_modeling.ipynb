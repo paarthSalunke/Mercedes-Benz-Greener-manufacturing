{
  "nbformat": 4,
  "nbformat_minor": 0,
  "metadata": {
    "colab": {
      "name": "Case_Study1_modeling.ipynb",
      "provenance": []
    },
    "kernelspec": {
      "display_name": "Python 3",
      "name": "python3"
    },
    "language_info": {
      "name": "python"
    }
  },
  "cells": [
    {
      "cell_type": "code",
      "metadata": {
        "id": "vRRb7dmrrQzV",
        "colab": {
          "base_uri": "https://localhost:8080/"
        },
        "outputId": "1b9110b9-be49-4d0d-d767-7fc7feb59d0c"
      },
      "source": [
        "import numpy as np\n",
        "import pandas as pd\n",
        "import matplotlib.pyplot as plt\n",
        "import seaborn as sns\n",
        "from sklearn.metrics import r2_score\n",
        "from sklearn.neighbors import KNeighborsRegressor\n",
        "from sklearn.model_selection import GridSearchCV\n",
        "from sklearn.model_selection import train_test_split\n",
        "from sklearn.tree import DecisionTreeRegressor\n",
        "from sklearn import linear_model\n",
        "from sklearn.ensemble import RandomForestRegressor\n",
        "from tqdm import tqdm\n",
        "import warnings\n",
        "import pickle\n",
        "from sklearn.svm import SVR\n",
        "import lightgbm as lgb\n",
        "from sklearn.model_selection import RepeatedKFold\n",
        "from xgboost import XGBRegressor\n",
        "from sklearn.externals import joblib\n",
        "from sklearn.model_selection import RandomizedSearchCV\n",
        "import time\n",
        "import random \n",
        "import xgboost as xgb\n",
        "warnings.filterwarnings('ignore')"
      ],
      "execution_count": null,
      "outputs": [
        {
          "output_type": "stream",
          "name": "stderr",
          "text": [
            "/usr/local/lib/python3.7/dist-packages/sklearn/externals/joblib/__init__.py:15: FutureWarning: sklearn.externals.joblib is deprecated in 0.21 and will be removed in 0.23. Please import this functionality directly from joblib, which can be installed with: pip install joblib. If this warning is raised when loading pickled models, you may need to re-serialize those models with scikit-learn 0.21+.\n",
            "  warnings.warn(msg, category=FutureWarning)\n"
          ]
        }
      ]
    },
    {
      "cell_type": "code",
      "metadata": {
        "id": "Ok37PFI3PgBG"
      },
      "source": [
        "!mkdir Case_study_models\n",
        "!mkdir Case_study_submissions"
      ],
      "execution_count": null,
      "outputs": []
    },
    {
      "cell_type": "code",
      "metadata": {
        "id": "cW55SCWmrkO4"
      },
      "source": [
        "with open('/content/drive/MyDrive/Case_study mercedes_Manufacturing/data/df_train_top100.pkl','rb') as f:\n",
        "  train = pickle.load(f)\n",
        "\n",
        "with open('/content/drive/MyDrive/Case_study mercedes_Manufacturing/data/df_test_top100.pkl','rb') as k:\n",
        "  test = pickle.load(k)  \n",
        "\n",
        "with open('/content/drive/MyDrive/Case_study mercedes_Manufacturing/data/df_train_FE.pkl','rb') as f:\n",
        "  train_FE = pickle.load(f)\n",
        "\n",
        "with open('/content/drive/MyDrive/Case_study mercedes_Manufacturing/data/df_test_FE.pkl','rb') as k:\n",
        "  test_FE = pickle.load(k) \n",
        "\n",
        "with open('/content/drive/MyDrive/Case_study mercedes_Manufacturing/data/df_train_250+labelenc.pkl','rb') as f:\n",
        "  train_original = pickle.load(f)\n",
        "\n",
        "with open('/content/drive/MyDrive/Case_study mercedes_Manufacturing/data/df_test_250+labelenc.pkl','rb') as k:\n",
        "  test_original = pickle.load(k)  "
      ],
      "execution_count": null,
      "outputs": []
    },
    {
      "cell_type": "code",
      "metadata": {
        "colab": {
          "base_uri": "https://localhost:8080/",
          "height": 253
        },
        "id": "NQCury_2x01F",
        "outputId": "69091f7f-e35b-4287-e813-7362ff87ec63"
      },
      "source": [
        "train_original.head(5)"
      ],
      "execution_count": null,
      "outputs": [
        {
          "output_type": "execute_result",
          "data": {
            "text/html": [
              "<div>\n",
              "<style scoped>\n",
              "    .dataframe tbody tr th:only-of-type {\n",
              "        vertical-align: middle;\n",
              "    }\n",
              "\n",
              "    .dataframe tbody tr th {\n",
              "        vertical-align: top;\n",
              "    }\n",
              "\n",
              "    .dataframe thead th {\n",
              "        text-align: right;\n",
              "    }\n",
              "</style>\n",
              "<table border=\"1\" class=\"dataframe\">\n",
              "  <thead>\n",
              "    <tr style=\"text-align: right;\">\n",
              "      <th></th>\n",
              "      <th>ID</th>\n",
              "      <th>X0</th>\n",
              "      <th>X1</th>\n",
              "      <th>X2</th>\n",
              "      <th>X3</th>\n",
              "      <th>X5</th>\n",
              "      <th>X6</th>\n",
              "      <th>X8</th>\n",
              "      <th>X10</th>\n",
              "      <th>X12</th>\n",
              "      <th>X13</th>\n",
              "      <th>X14</th>\n",
              "      <th>X16</th>\n",
              "      <th>X18</th>\n",
              "      <th>X19</th>\n",
              "      <th>X20</th>\n",
              "      <th>X21</th>\n",
              "      <th>X22</th>\n",
              "      <th>X23</th>\n",
              "      <th>X24</th>\n",
              "      <th>X26</th>\n",
              "      <th>X27</th>\n",
              "      <th>X28</th>\n",
              "      <th>X30</th>\n",
              "      <th>X32</th>\n",
              "      <th>X34</th>\n",
              "      <th>X36</th>\n",
              "      <th>X37</th>\n",
              "      <th>X38</th>\n",
              "      <th>X40</th>\n",
              "      <th>X41</th>\n",
              "      <th>X43</th>\n",
              "      <th>X45</th>\n",
              "      <th>X46</th>\n",
              "      <th>X47</th>\n",
              "      <th>X49</th>\n",
              "      <th>X50</th>\n",
              "      <th>X51</th>\n",
              "      <th>X52</th>\n",
              "      <th>X55</th>\n",
              "      <th>...</th>\n",
              "      <th>X329</th>\n",
              "      <th>X331</th>\n",
              "      <th>X333</th>\n",
              "      <th>X334</th>\n",
              "      <th>X335</th>\n",
              "      <th>X336</th>\n",
              "      <th>X338</th>\n",
              "      <th>X340</th>\n",
              "      <th>X341</th>\n",
              "      <th>X342</th>\n",
              "      <th>X343</th>\n",
              "      <th>X344</th>\n",
              "      <th>X345</th>\n",
              "      <th>X346</th>\n",
              "      <th>X349</th>\n",
              "      <th>X350</th>\n",
              "      <th>X351</th>\n",
              "      <th>X353</th>\n",
              "      <th>X354</th>\n",
              "      <th>X355</th>\n",
              "      <th>X356</th>\n",
              "      <th>X357</th>\n",
              "      <th>X359</th>\n",
              "      <th>X360</th>\n",
              "      <th>X361</th>\n",
              "      <th>X365</th>\n",
              "      <th>X366</th>\n",
              "      <th>X369</th>\n",
              "      <th>X373</th>\n",
              "      <th>X374</th>\n",
              "      <th>X375</th>\n",
              "      <th>X376</th>\n",
              "      <th>X377</th>\n",
              "      <th>X379</th>\n",
              "      <th>X380</th>\n",
              "      <th>X382</th>\n",
              "      <th>X383</th>\n",
              "      <th>X384</th>\n",
              "      <th>X385</th>\n",
              "      <th>y</th>\n",
              "    </tr>\n",
              "  </thead>\n",
              "  <tbody>\n",
              "    <tr>\n",
              "      <th>0</th>\n",
              "      <td>0</td>\n",
              "      <td>32</td>\n",
              "      <td>23</td>\n",
              "      <td>17</td>\n",
              "      <td>0</td>\n",
              "      <td>24</td>\n",
              "      <td>9</td>\n",
              "      <td>14</td>\n",
              "      <td>0</td>\n",
              "      <td>0</td>\n",
              "      <td>1</td>\n",
              "      <td>0</td>\n",
              "      <td>0</td>\n",
              "      <td>1</td>\n",
              "      <td>0</td>\n",
              "      <td>0</td>\n",
              "      <td>1</td>\n",
              "      <td>0</td>\n",
              "      <td>0</td>\n",
              "      <td>0</td>\n",
              "      <td>0</td>\n",
              "      <td>0</td>\n",
              "      <td>0</td>\n",
              "      <td>0</td>\n",
              "      <td>0</td>\n",
              "      <td>0</td>\n",
              "      <td>0</td>\n",
              "      <td>1</td>\n",
              "      <td>0</td>\n",
              "      <td>0</td>\n",
              "      <td>0</td>\n",
              "      <td>0</td>\n",
              "      <td>0</td>\n",
              "      <td>1</td>\n",
              "      <td>0</td>\n",
              "      <td>0</td>\n",
              "      <td>0</td>\n",
              "      <td>0</td>\n",
              "      <td>0</td>\n",
              "      <td>0</td>\n",
              "      <td>...</td>\n",
              "      <td>1</td>\n",
              "      <td>0</td>\n",
              "      <td>0</td>\n",
              "      <td>1</td>\n",
              "      <td>0</td>\n",
              "      <td>0</td>\n",
              "      <td>0</td>\n",
              "      <td>0</td>\n",
              "      <td>0</td>\n",
              "      <td>0</td>\n",
              "      <td>0</td>\n",
              "      <td>0</td>\n",
              "      <td>0</td>\n",
              "      <td>0</td>\n",
              "      <td>0</td>\n",
              "      <td>0</td>\n",
              "      <td>0</td>\n",
              "      <td>0</td>\n",
              "      <td>1</td>\n",
              "      <td>0</td>\n",
              "      <td>0</td>\n",
              "      <td>0</td>\n",
              "      <td>0</td>\n",
              "      <td>0</td>\n",
              "      <td>1</td>\n",
              "      <td>0</td>\n",
              "      <td>0</td>\n",
              "      <td>0</td>\n",
              "      <td>0</td>\n",
              "      <td>0</td>\n",
              "      <td>0</td>\n",
              "      <td>0</td>\n",
              "      <td>1</td>\n",
              "      <td>0</td>\n",
              "      <td>0</td>\n",
              "      <td>0</td>\n",
              "      <td>0</td>\n",
              "      <td>0</td>\n",
              "      <td>0</td>\n",
              "      <td>130.81</td>\n",
              "    </tr>\n",
              "    <tr>\n",
              "      <th>1</th>\n",
              "      <td>6</td>\n",
              "      <td>32</td>\n",
              "      <td>21</td>\n",
              "      <td>19</td>\n",
              "      <td>4</td>\n",
              "      <td>28</td>\n",
              "      <td>11</td>\n",
              "      <td>14</td>\n",
              "      <td>0</td>\n",
              "      <td>0</td>\n",
              "      <td>0</td>\n",
              "      <td>0</td>\n",
              "      <td>0</td>\n",
              "      <td>1</td>\n",
              "      <td>0</td>\n",
              "      <td>0</td>\n",
              "      <td>0</td>\n",
              "      <td>0</td>\n",
              "      <td>0</td>\n",
              "      <td>0</td>\n",
              "      <td>0</td>\n",
              "      <td>1</td>\n",
              "      <td>0</td>\n",
              "      <td>0</td>\n",
              "      <td>0</td>\n",
              "      <td>0</td>\n",
              "      <td>0</td>\n",
              "      <td>1</td>\n",
              "      <td>0</td>\n",
              "      <td>0</td>\n",
              "      <td>0</td>\n",
              "      <td>0</td>\n",
              "      <td>0</td>\n",
              "      <td>0</td>\n",
              "      <td>0</td>\n",
              "      <td>0</td>\n",
              "      <td>0</td>\n",
              "      <td>1</td>\n",
              "      <td>0</td>\n",
              "      <td>0</td>\n",
              "      <td>...</td>\n",
              "      <td>1</td>\n",
              "      <td>0</td>\n",
              "      <td>0</td>\n",
              "      <td>0</td>\n",
              "      <td>0</td>\n",
              "      <td>1</td>\n",
              "      <td>0</td>\n",
              "      <td>0</td>\n",
              "      <td>0</td>\n",
              "      <td>0</td>\n",
              "      <td>0</td>\n",
              "      <td>0</td>\n",
              "      <td>0</td>\n",
              "      <td>0</td>\n",
              "      <td>0</td>\n",
              "      <td>0</td>\n",
              "      <td>0</td>\n",
              "      <td>0</td>\n",
              "      <td>0</td>\n",
              "      <td>0</td>\n",
              "      <td>0</td>\n",
              "      <td>0</td>\n",
              "      <td>0</td>\n",
              "      <td>0</td>\n",
              "      <td>1</td>\n",
              "      <td>0</td>\n",
              "      <td>0</td>\n",
              "      <td>0</td>\n",
              "      <td>0</td>\n",
              "      <td>0</td>\n",
              "      <td>1</td>\n",
              "      <td>0</td>\n",
              "      <td>0</td>\n",
              "      <td>0</td>\n",
              "      <td>0</td>\n",
              "      <td>0</td>\n",
              "      <td>0</td>\n",
              "      <td>0</td>\n",
              "      <td>0</td>\n",
              "      <td>88.53</td>\n",
              "    </tr>\n",
              "    <tr>\n",
              "      <th>2</th>\n",
              "      <td>7</td>\n",
              "      <td>20</td>\n",
              "      <td>24</td>\n",
              "      <td>34</td>\n",
              "      <td>2</td>\n",
              "      <td>27</td>\n",
              "      <td>9</td>\n",
              "      <td>23</td>\n",
              "      <td>0</td>\n",
              "      <td>0</td>\n",
              "      <td>0</td>\n",
              "      <td>0</td>\n",
              "      <td>0</td>\n",
              "      <td>0</td>\n",
              "      <td>0</td>\n",
              "      <td>0</td>\n",
              "      <td>0</td>\n",
              "      <td>0</td>\n",
              "      <td>0</td>\n",
              "      <td>0</td>\n",
              "      <td>0</td>\n",
              "      <td>1</td>\n",
              "      <td>1</td>\n",
              "      <td>0</td>\n",
              "      <td>0</td>\n",
              "      <td>0</td>\n",
              "      <td>0</td>\n",
              "      <td>1</td>\n",
              "      <td>0</td>\n",
              "      <td>0</td>\n",
              "      <td>0</td>\n",
              "      <td>1</td>\n",
              "      <td>0</td>\n",
              "      <td>1</td>\n",
              "      <td>0</td>\n",
              "      <td>0</td>\n",
              "      <td>0</td>\n",
              "      <td>1</td>\n",
              "      <td>0</td>\n",
              "      <td>0</td>\n",
              "      <td>...</td>\n",
              "      <td>0</td>\n",
              "      <td>0</td>\n",
              "      <td>0</td>\n",
              "      <td>1</td>\n",
              "      <td>0</td>\n",
              "      <td>0</td>\n",
              "      <td>0</td>\n",
              "      <td>0</td>\n",
              "      <td>0</td>\n",
              "      <td>0</td>\n",
              "      <td>0</td>\n",
              "      <td>0</td>\n",
              "      <td>0</td>\n",
              "      <td>0</td>\n",
              "      <td>0</td>\n",
              "      <td>1</td>\n",
              "      <td>0</td>\n",
              "      <td>0</td>\n",
              "      <td>1</td>\n",
              "      <td>0</td>\n",
              "      <td>0</td>\n",
              "      <td>0</td>\n",
              "      <td>0</td>\n",
              "      <td>0</td>\n",
              "      <td>1</td>\n",
              "      <td>0</td>\n",
              "      <td>0</td>\n",
              "      <td>0</td>\n",
              "      <td>0</td>\n",
              "      <td>0</td>\n",
              "      <td>0</td>\n",
              "      <td>0</td>\n",
              "      <td>0</td>\n",
              "      <td>0</td>\n",
              "      <td>0</td>\n",
              "      <td>1</td>\n",
              "      <td>0</td>\n",
              "      <td>0</td>\n",
              "      <td>0</td>\n",
              "      <td>76.26</td>\n",
              "    </tr>\n",
              "    <tr>\n",
              "      <th>3</th>\n",
              "      <td>9</td>\n",
              "      <td>20</td>\n",
              "      <td>21</td>\n",
              "      <td>34</td>\n",
              "      <td>5</td>\n",
              "      <td>27</td>\n",
              "      <td>11</td>\n",
              "      <td>4</td>\n",
              "      <td>0</td>\n",
              "      <td>0</td>\n",
              "      <td>0</td>\n",
              "      <td>0</td>\n",
              "      <td>0</td>\n",
              "      <td>0</td>\n",
              "      <td>0</td>\n",
              "      <td>0</td>\n",
              "      <td>0</td>\n",
              "      <td>0</td>\n",
              "      <td>0</td>\n",
              "      <td>0</td>\n",
              "      <td>0</td>\n",
              "      <td>1</td>\n",
              "      <td>1</td>\n",
              "      <td>0</td>\n",
              "      <td>0</td>\n",
              "      <td>0</td>\n",
              "      <td>0</td>\n",
              "      <td>1</td>\n",
              "      <td>0</td>\n",
              "      <td>0</td>\n",
              "      <td>0</td>\n",
              "      <td>1</td>\n",
              "      <td>0</td>\n",
              "      <td>1</td>\n",
              "      <td>0</td>\n",
              "      <td>0</td>\n",
              "      <td>0</td>\n",
              "      <td>0</td>\n",
              "      <td>0</td>\n",
              "      <td>0</td>\n",
              "      <td>...</td>\n",
              "      <td>0</td>\n",
              "      <td>0</td>\n",
              "      <td>0</td>\n",
              "      <td>0</td>\n",
              "      <td>0</td>\n",
              "      <td>0</td>\n",
              "      <td>0</td>\n",
              "      <td>0</td>\n",
              "      <td>0</td>\n",
              "      <td>0</td>\n",
              "      <td>0</td>\n",
              "      <td>0</td>\n",
              "      <td>0</td>\n",
              "      <td>0</td>\n",
              "      <td>0</td>\n",
              "      <td>1</td>\n",
              "      <td>0</td>\n",
              "      <td>0</td>\n",
              "      <td>0</td>\n",
              "      <td>0</td>\n",
              "      <td>0</td>\n",
              "      <td>0</td>\n",
              "      <td>0</td>\n",
              "      <td>0</td>\n",
              "      <td>1</td>\n",
              "      <td>0</td>\n",
              "      <td>0</td>\n",
              "      <td>0</td>\n",
              "      <td>0</td>\n",
              "      <td>0</td>\n",
              "      <td>0</td>\n",
              "      <td>0</td>\n",
              "      <td>0</td>\n",
              "      <td>0</td>\n",
              "      <td>0</td>\n",
              "      <td>0</td>\n",
              "      <td>0</td>\n",
              "      <td>0</td>\n",
              "      <td>0</td>\n",
              "      <td>80.62</td>\n",
              "    </tr>\n",
              "    <tr>\n",
              "      <th>4</th>\n",
              "      <td>13</td>\n",
              "      <td>20</td>\n",
              "      <td>23</td>\n",
              "      <td>34</td>\n",
              "      <td>5</td>\n",
              "      <td>12</td>\n",
              "      <td>3</td>\n",
              "      <td>13</td>\n",
              "      <td>0</td>\n",
              "      <td>0</td>\n",
              "      <td>0</td>\n",
              "      <td>0</td>\n",
              "      <td>0</td>\n",
              "      <td>0</td>\n",
              "      <td>0</td>\n",
              "      <td>0</td>\n",
              "      <td>0</td>\n",
              "      <td>0</td>\n",
              "      <td>0</td>\n",
              "      <td>0</td>\n",
              "      <td>0</td>\n",
              "      <td>1</td>\n",
              "      <td>1</td>\n",
              "      <td>0</td>\n",
              "      <td>0</td>\n",
              "      <td>0</td>\n",
              "      <td>0</td>\n",
              "      <td>1</td>\n",
              "      <td>0</td>\n",
              "      <td>0</td>\n",
              "      <td>0</td>\n",
              "      <td>1</td>\n",
              "      <td>0</td>\n",
              "      <td>1</td>\n",
              "      <td>0</td>\n",
              "      <td>0</td>\n",
              "      <td>0</td>\n",
              "      <td>1</td>\n",
              "      <td>0</td>\n",
              "      <td>0</td>\n",
              "      <td>...</td>\n",
              "      <td>0</td>\n",
              "      <td>0</td>\n",
              "      <td>0</td>\n",
              "      <td>1</td>\n",
              "      <td>0</td>\n",
              "      <td>0</td>\n",
              "      <td>0</td>\n",
              "      <td>0</td>\n",
              "      <td>0</td>\n",
              "      <td>0</td>\n",
              "      <td>0</td>\n",
              "      <td>0</td>\n",
              "      <td>0</td>\n",
              "      <td>0</td>\n",
              "      <td>0</td>\n",
              "      <td>1</td>\n",
              "      <td>0</td>\n",
              "      <td>0</td>\n",
              "      <td>0</td>\n",
              "      <td>0</td>\n",
              "      <td>0</td>\n",
              "      <td>0</td>\n",
              "      <td>0</td>\n",
              "      <td>0</td>\n",
              "      <td>1</td>\n",
              "      <td>0</td>\n",
              "      <td>0</td>\n",
              "      <td>0</td>\n",
              "      <td>0</td>\n",
              "      <td>0</td>\n",
              "      <td>0</td>\n",
              "      <td>0</td>\n",
              "      <td>0</td>\n",
              "      <td>0</td>\n",
              "      <td>0</td>\n",
              "      <td>0</td>\n",
              "      <td>0</td>\n",
              "      <td>0</td>\n",
              "      <td>0</td>\n",
              "      <td>78.02</td>\n",
              "    </tr>\n",
              "  </tbody>\n",
              "</table>\n",
              "<p>5 rows × 258 columns</p>\n",
              "</div>"
            ],
            "text/plain": [
              "   ID  X0  X1  X2  X3  X5  X6  ...  X379  X380  X382  X383  X384  X385       y\n",
              "0   0  32  23  17   0  24   9  ...     0     0     0     0     0     0  130.81\n",
              "1   6  32  21  19   4  28  11  ...     0     0     0     0     0     0   88.53\n",
              "2   7  20  24  34   2  27   9  ...     0     0     1     0     0     0   76.26\n",
              "3   9  20  21  34   5  27  11  ...     0     0     0     0     0     0   80.62\n",
              "4  13  20  23  34   5  12   3  ...     0     0     0     0     0     0   78.02\n",
              "\n",
              "[5 rows x 258 columns]"
            ]
          },
          "metadata": {},
          "execution_count": 3
        }
      ]
    },
    {
      "cell_type": "code",
      "metadata": {
        "id": "R2bfNCmBMfrl"
      },
      "source": [
        "features=list(train_original.columns)\n",
        "import pickle\n",
        "with open('/content/features.pkl', 'wb') as f:\n",
        "  pickle.dump(features, f)"
      ],
      "execution_count": null,
      "outputs": []
    },
    {
      "cell_type": "code",
      "metadata": {
        "id": "Gku6XI_urpf3"
      },
      "source": [
        "sample_submission=pd.read_csv(\"/content/drive/MyDrive/Case_study mercedes_Manufacturing/sample_submission.csv.zip\")\n",
        "df_test=pd.read_csv(\"/content/drive/MyDrive/Case_study mercedes_Manufacturing/test.csv\")"
      ],
      "execution_count": null,
      "outputs": []
    },
    {
      "cell_type": "code",
      "metadata": {
        "colab": {
          "base_uri": "https://localhost:8080/"
        },
        "id": "XJO0SQDqk8tc",
        "outputId": "609213ed-082d-4b93-a0e4-2b6d928b8da5"
      },
      "source": [
        "train_FE.shape , test_FE.shape"
      ],
      "execution_count": null,
      "outputs": [
        {
          "output_type": "execute_result",
          "data": {
            "text/plain": [
              "((4209, 278), (4209, 277))"
            ]
          },
          "metadata": {},
          "execution_count": 6
        }
      ]
    },
    {
      "cell_type": "code",
      "metadata": {
        "colab": {
          "base_uri": "https://localhost:8080/"
        },
        "id": "W2funxAdlM7z",
        "outputId": "e51da6e0-f7bf-4d94-a75a-8a64d7d29456"
      },
      "source": [
        "train_FE[: ,277]"
      ],
      "execution_count": null,
      "outputs": [
        {
          "output_type": "execute_result",
          "data": {
            "text/plain": [
              "array([130.81,  88.53,  76.26, ..., 109.22,  87.48, 110.85])"
            ]
          },
          "metadata": {},
          "execution_count": 7
        }
      ]
    },
    {
      "cell_type": "code",
      "metadata": {
        "id": "TdDKGMZKr4Mj"
      },
      "source": [
        "X=train[: ,0:291]\n",
        "Y=train[: ,291]\n",
        "X_FE=train_FE[: ,0:277]\n",
        "Y_FE=train_FE[: ,277]\n",
        "X_original=train_original.drop(\"y\" , axis=1)\n",
        "Y_original=train_original[\"y\"]"
      ],
      "execution_count": null,
      "outputs": []
    },
    {
      "cell_type": "code",
      "metadata": {
        "id": "LACSrcayrhSR"
      },
      "source": [
        "def train_model(   model ,X , Y  , param , file_name  ,test=test , df_test=df_test):\n",
        "  \"\"\"\n",
        "  in given function we are fitting train data on ML model \n",
        "  we are using Randomized Search CV with 5 fold \n",
        "  finally we get best model then we train model on X and Y   \n",
        "  \"\"\"\n",
        "  start = time.time()\n",
        "  param_list=list(param.keys())\n",
        "  model_cv = RandomizedSearchCV(model, param_distributions=param)\n",
        "  #best param from Randomized Search CV and training on X and Y\n",
        "  best_model=model_cv.fit(X , Y)\n",
        "  #R2 score on train data\n",
        "  train_r2=r2_score(Y ,best_model.predict(X))\n",
        "\n",
        "  line=\"*\"*35\n",
        "  print(line)\n",
        "  #printing best param \n",
        "  for i in param_list:\n",
        "    print(f\"best_model param {i} :\" ,best_model.best_estimator_.get_params()[i])\n",
        "  print(line)\n",
        "\n",
        "  print(f\"train R2 score: {train_r2}\")\n",
        "  #predicting on test test\n",
        "  y_pred_test=best_model.predict(test)\n",
        "  \n",
        "  #storing predicted Y and test ID in submission dataframe\n",
        "  submission_df=pd.DataFrame({\"ID\" :df_test[\"ID\"] ,\"y\":y_pred_test})\n",
        "  elapsed = time.time() - start\n",
        "  print(line)\n",
        "  print(f\"time required: {elapsed}\")\n",
        "  print(line)\n",
        "  print(\"submission file saved succesfully!!!\")\n",
        "  submission_df.to_csv(\"/content/Case_study_submissions/submission_\"+file_name ,index=False)\n",
        "  print(\"best model saved succesfully!!!\")\n",
        "  #dumping model to pickle file\n",
        "  joblib_file = \"/content/Case_study_models/best_model_\"+file_name \n",
        "  joblib.dump(best_model, joblib_file)\n",
        "  print(line)\n",
        "  return best_model "
      ],
      "execution_count": null,
      "outputs": []
    },
    {
      "cell_type": "markdown",
      "metadata": {
        "id": "xKn543_zKmy8"
      },
      "source": [
        "Lasso Regression"
      ]
    },
    {
      "cell_type": "code",
      "metadata": {
        "colab": {
          "base_uri": "https://localhost:8080/"
        },
        "id": "FBwRKdEDrhVE",
        "outputId": "908fde4a-21fe-4a51-b585-bb9db5d1b0a6"
      },
      "source": [
        "reg = linear_model.Lasso()\n",
        "param={\"max_iter\" : [1000 , 1500 ,2000]}\n",
        "best_model=train_model(reg , X , Y , param ,\"reg_100\" )"
      ],
      "execution_count": null,
      "outputs": [
        {
          "name": "stdout",
          "output_type": "stream",
          "text": [
            "***********************************\n",
            "best_model param max_iter : 1000\n",
            "***********************************\n",
            "train R2 score: 0.3681997917390706\n",
            "***********************************\n",
            "time required: 0.8714864253997803\n",
            "***********************************\n",
            "submission file saved succesfully!!!\n",
            "best model saved succesfully!!!\n",
            "***********************************\n"
          ]
        }
      ]
    },
    {
      "cell_type": "code",
      "metadata": {
        "colab": {
          "base_uri": "https://localhost:8080/"
        },
        "id": "qT9OW0ntlhXx",
        "outputId": "33d3f759-dc3e-487d-96b2-ccb70ab6224d"
      },
      "source": [
        "reg = linear_model.Lasso()\n",
        "param={\"max_iter\" : [1000 , 1500 ,2000]}\n",
        "best_model=train_model(reg , X_FE , Y_FE , param ,\"reg_FE\" , test_FE)"
      ],
      "execution_count": null,
      "outputs": [
        {
          "name": "stdout",
          "output_type": "stream",
          "text": [
            "***********************************\n",
            "best_model param max_iter : 1000\n",
            "***********************************\n",
            "train R2 score: 0.4383464311567631\n",
            "***********************************\n",
            "time required: 0.7414767742156982\n",
            "***********************************\n",
            "submission file saved succesfully!!!\n",
            "best model saved succesfully!!!\n",
            "***********************************\n"
          ]
        }
      ]
    },
    {
      "cell_type": "code",
      "metadata": {
        "colab": {
          "base_uri": "https://localhost:8080/"
        },
        "id": "YvFJauRcr3HN",
        "outputId": "1389db91-c406-406b-bd5f-344b23c03e62"
      },
      "source": [
        "reg = linear_model.Lasso()\n",
        "param={\"max_iter\" : [1000 , 1500 ,2000]}\n",
        "best_model=train_model(reg , X_original , Y_original , param ,\"reg_original\" , test_original)"
      ],
      "execution_count": null,
      "outputs": [
        {
          "name": "stdout",
          "output_type": "stream",
          "text": [
            "***********************************\n",
            "best_model param max_iter : 1000\n",
            "***********************************\n",
            "train R2 score: 0.37284797026249794\n",
            "***********************************\n",
            "time required: 0.5467307567596436\n",
            "***********************************\n",
            "submission file saved succesfully!!!\n",
            "best model saved succesfully!!!\n",
            "***********************************\n"
          ]
        }
      ]
    },
    {
      "cell_type": "markdown",
      "metadata": {
        "id": "3tMiy1zIKsR-"
      },
      "source": [
        "DT"
      ]
    },
    {
      "cell_type": "code",
      "metadata": {
        "colab": {
          "base_uri": "https://localhost:8080/"
        },
        "id": "JpgARKetKo5d",
        "outputId": "bbbb4e1e-abff-425d-9ef3-00e0a8ba17c4"
      },
      "source": [
        "DecisionTreeRegressor(criterion = \"mse\")"
      ],
      "execution_count": null,
      "outputs": [
        {
          "data": {
            "text/plain": [
              "DecisionTreeRegressor(ccp_alpha=0.0, criterion='mse', max_depth=None,\n",
              "                      max_features=None, max_leaf_nodes=None,\n",
              "                      min_impurity_decrease=0.0, min_impurity_split=None,\n",
              "                      min_samples_leaf=1, min_samples_split=2,\n",
              "                      min_weight_fraction_leaf=0.0, presort='deprecated',\n",
              "                      random_state=None, splitter='best')"
            ]
          },
          "execution_count": 166,
          "metadata": {},
          "output_type": "execute_result"
        }
      ]
    },
    {
      "cell_type": "code",
      "metadata": {
        "colab": {
          "base_uri": "https://localhost:8080/"
        },
        "id": "c2ukY-AYrhXe",
        "outputId": "38db9b6d-ea91-4678-fab1-0d4a5e46bda8"
      },
      "source": [
        "DT=  DecisionTreeRegressor(criterion = \"mse\")\n",
        "param={\"max_depth\":[5 , 10 , 15 , 20]  ,\n",
        "       \"min_samples_split\":[2 , 4 , 8 , 10] ,\n",
        "       \"min_samples_leaf\":[1 , 5 , 10 , 15] }\n",
        "best_model_DT =train_model(DT , X , Y ,  param , \"DT_100\")"
      ],
      "execution_count": null,
      "outputs": [
        {
          "name": "stdout",
          "output_type": "stream",
          "text": [
            "***********************************\n",
            "best_model param max_depth : 5\n",
            "best_model param min_samples_split : 2\n",
            "best_model param min_samples_leaf : 10\n",
            "***********************************\n",
            "train R2 score: 0.5806998541203842\n",
            "***********************************\n",
            "time required: 2.43764066696167\n",
            "***********************************\n",
            "submission file saved succesfully!!!\n",
            "best model saved succesfully!!!\n",
            "***********************************\n"
          ]
        }
      ]
    },
    {
      "cell_type": "code",
      "metadata": {
        "colab": {
          "base_uri": "https://localhost:8080/"
        },
        "id": "Ou1n4sr_mecX",
        "outputId": "739cd85c-985d-4ab7-b6ac-e587b030c899"
      },
      "source": [
        "DT=  DecisionTreeRegressor(criterion = \"mse\")\n",
        "param={\"max_depth\":[5 , 10 , 15 , 20]  ,\n",
        "       \"min_samples_split\":[2 , 4 , 8 , 10] , \n",
        "       \"min_samples_leaf\":[1 , 5 , 10 , 15] }\n",
        "best_model =train_model(DT , X_FE , Y_FE ,  param , \"DT_FE\" , test_FE)"
      ],
      "execution_count": null,
      "outputs": [
        {
          "name": "stdout",
          "output_type": "stream",
          "text": [
            "***********************************\n",
            "best_model param max_depth : 5\n",
            "best_model param min_samples_split : 2\n",
            "best_model param min_samples_leaf : 10\n",
            "***********************************\n",
            "train R2 score: 0.5860591902804202\n",
            "***********************************\n",
            "time required: 5.961425065994263\n",
            "***********************************\n",
            "submission file saved succesfully!!!\n",
            "best model saved succesfully!!!\n",
            "***********************************\n"
          ]
        }
      ]
    },
    {
      "cell_type": "code",
      "metadata": {
        "colab": {
          "base_uri": "https://localhost:8080/"
        },
        "id": "Mv_Pmrr5xt4T",
        "outputId": "377d50c6-d151-4efb-ecf5-9ec19422dc3d"
      },
      "source": [
        "DT=  DecisionTreeRegressor(criterion = \"mse\")\n",
        "param={\"max_depth\":[5 , 10 , 15 , 20]  ,\n",
        "       \"min_samples_split\":[2 , 4 , 8 , 10] ,\n",
        "       \"min_samples_leaf\":[1 , 5 , 10 , 15] }\n",
        "best_model=train_model(DT , X_original , Y_original , param ,\"DT_original\" , test_original)"
      ],
      "execution_count": null,
      "outputs": [
        {
          "name": "stdout",
          "output_type": "stream",
          "text": [
            "***********************************\n",
            "best_model param max_depth : 10\n",
            "best_model param min_samples_split : 4\n",
            "best_model param min_samples_leaf : 10\n",
            "***********************************\n",
            "train R2 score: 0.6172990666572\n",
            "***********************************\n",
            "time required: 3.419506788253784\n",
            "***********************************\n",
            "submission file saved succesfully!!!\n",
            "best model saved succesfully!!!\n",
            "***********************************\n"
          ]
        }
      ]
    },
    {
      "cell_type": "markdown",
      "metadata": {
        "id": "eRmHuYM4MeOX"
      },
      "source": [
        "RF"
      ]
    },
    {
      "cell_type": "code",
      "metadata": {
        "colab": {
          "base_uri": "https://localhost:8080/"
        },
        "id": "EuQrCzuiMiH7",
        "outputId": "feb0e4a6-996a-4083-cd6e-47dd2142d667"
      },
      "source": [
        "RandomForestRegressor()"
      ],
      "execution_count": null,
      "outputs": [
        {
          "data": {
            "text/plain": [
              "RandomForestRegressor(bootstrap=True, ccp_alpha=0.0, criterion='mse',\n",
              "                      max_depth=None, max_features='auto', max_leaf_nodes=None,\n",
              "                      max_samples=None, min_impurity_decrease=0.0,\n",
              "                      min_impurity_split=None, min_samples_leaf=1,\n",
              "                      min_samples_split=2, min_weight_fraction_leaf=0.0,\n",
              "                      n_estimators=100, n_jobs=None, oob_score=False,\n",
              "                      random_state=None, verbose=0, warm_start=False)"
            ]
          },
          "execution_count": 170,
          "metadata": {},
          "output_type": "execute_result"
        }
      ]
    },
    {
      "cell_type": "code",
      "metadata": {
        "colab": {
          "base_uri": "https://localhost:8080/"
        },
        "id": "EiGAAC8UymLY",
        "outputId": "e14505a4-1361-4392-d01a-344b98080d12"
      },
      "source": [
        "RF=  RandomForestRegressor(criterion = \"mse\")\n",
        "param={\"max_depth\":[5 , 10 , 15 , 20]  ,\n",
        "       \"min_samples_split\":[2 , 4 , 8 , 10] , \n",
        "       \"min_samples_leaf\":[1 , 5 , 10 , 15] }\n",
        "best_model=train_model(RF , X , Y ,  param ,\"RF_100\")"
      ],
      "execution_count": null,
      "outputs": [
        {
          "name": "stdout",
          "output_type": "stream",
          "text": [
            "***********************************\n",
            "best_model param max_depth : 5\n",
            "best_model param min_samples_split : 2\n",
            "best_model param min_samples_leaf : 5\n",
            "***********************************\n",
            "train R2 score: 0.5870579979911417\n",
            "***********************************\n",
            "time required: 143.54842281341553\n",
            "***********************************\n",
            "submission file saved succesfully!!!\n",
            "best model saved succesfully!!!\n",
            "***********************************\n"
          ]
        }
      ]
    },
    {
      "cell_type": "code",
      "metadata": {
        "colab": {
          "base_uri": "https://localhost:8080/"
        },
        "id": "UHiaT8IlmsOk",
        "outputId": "5af594a4-0323-4b37-a73d-53cac1bc74cc"
      },
      "source": [
        "RF=  RandomForestRegressor(criterion = \"mse\")\n",
        "param={\"max_depth\":[5 , 10 , 15 , 20]  ,\n",
        "       \"min_samples_split\":[2 , 4 , 8 , 10] , \n",
        "       \"min_samples_leaf\":[1 , 5 , 10 , 15] }\n",
        "best_model=train_model(RF , X_FE , Y_FE ,  param ,\"RF_FE\" , test_FE)"
      ],
      "execution_count": null,
      "outputs": [
        {
          "name": "stdout",
          "output_type": "stream",
          "text": [
            "***********************************\n",
            "best_model param max_depth : 5\n",
            "best_model param min_samples_split : 8\n",
            "best_model param min_samples_leaf : 15\n",
            "***********************************\n",
            "train R2 score: 0.5898502264431038\n",
            "***********************************\n",
            "time required: 318.28091192245483\n",
            "***********************************\n",
            "submission file saved succesfully!!!\n",
            "best model saved succesfully!!!\n",
            "***********************************\n"
          ]
        }
      ]
    },
    {
      "cell_type": "code",
      "metadata": {
        "colab": {
          "base_uri": "https://localhost:8080/"
        },
        "id": "lJvCH5aFyMR3",
        "outputId": "071e44cc-f612-405c-e302-51825d145021"
      },
      "source": [
        "RF=  RandomForestRegressor(criterion = \"mse\")\n",
        "param={\"max_depth\":[5 , 10 , 15 , 20]  ,\n",
        "       \"min_samples_split\":[2 , 4 , 8 , 10] ,\n",
        "       \"min_samples_leaf\":[1 , 5 , 10 , 15] }\n",
        "best_model=train_model(RF , X_original , Y_original , param ,\"RF_original\" , test_original)"
      ],
      "execution_count": null,
      "outputs": [
        {
          "name": "stdout",
          "output_type": "stream",
          "text": [
            "***********************************\n",
            "best_model param max_depth : 5\n",
            "best_model param min_samples_split : 4\n",
            "best_model param min_samples_leaf : 15\n",
            "***********************************\n",
            "train R2 score: 0.5838728495163685\n",
            "***********************************\n",
            "time required: 169.87348866462708\n",
            "***********************************\n",
            "submission file saved succesfully!!!\n",
            "best model saved succesfully!!!\n",
            "***********************************\n"
          ]
        }
      ]
    },
    {
      "cell_type": "markdown",
      "metadata": {
        "id": "BmU08x6ubBQW"
      },
      "source": [
        "XGB"
      ]
    },
    {
      "cell_type": "code",
      "metadata": {
        "colab": {
          "base_uri": "https://localhost:8080/"
        },
        "id": "sjdKxFvpbJ8a",
        "outputId": "23a2f145-ec32-4892-9e5c-2b76ebfaca07"
      },
      "source": [
        "XGBRegressor()"
      ],
      "execution_count": null,
      "outputs": [
        {
          "data": {
            "text/plain": [
              "XGBRegressor(base_score=0.5, booster='gbtree', colsample_bylevel=1,\n",
              "             colsample_bynode=1, colsample_bytree=1, gamma=0,\n",
              "             importance_type='gain', learning_rate=0.1, max_delta_step=0,\n",
              "             max_depth=3, min_child_weight=1, missing=None, n_estimators=100,\n",
              "             n_jobs=1, nthread=None, objective='reg:linear', random_state=0,\n",
              "             reg_alpha=0, reg_lambda=1, scale_pos_weight=1, seed=None,\n",
              "             silent=None, subsample=1, verbosity=1)"
            ]
          },
          "execution_count": 174,
          "metadata": {},
          "output_type": "execute_result"
        }
      ]
    },
    {
      "cell_type": "code",
      "metadata": {
        "colab": {
          "base_uri": "https://localhost:8080/"
        },
        "id": "GIY37QvYa_Rx",
        "outputId": "7b093b68-797e-4d82-978b-3e306a977e32"
      },
      "source": [
        "XGB= XGBRegressor(objective ='reg:linear', verbosity = 0, random_state=42)\n",
        "param={\"max_depth\":[5 , 10 , 15 , 20],\n",
        "       \"min_samples_split\":[2 , 4 , 8 , 10],\n",
        "       \"min_samples_leaf\":[1 , 5 , 10 , 15],\n",
        "       \"learning_rate\":[0.1 , 0.01 , 0.001 ],\n",
        "       \"n_estimators\":[100 , 200 , 300]}\n",
        "best_model =train_model(XGB , X , Y ,  param , \"XGB_100\")"
      ],
      "execution_count": null,
      "outputs": [
        {
          "name": "stdout",
          "output_type": "stream",
          "text": [
            "***********************************\n",
            "best_model param max_depth : 5\n",
            "best_model param min_samples_split : 4\n",
            "best_model param min_samples_leaf : 1\n",
            "best_model param learning_rate : 0.1\n",
            "best_model param n_estimators : 100\n",
            "***********************************\n",
            "train R2 score: 0.6881652976964507\n",
            "***********************************\n",
            "time required: 410.6151866912842\n",
            "***********************************\n",
            "submission file saved succesfully!!!\n",
            "best model saved succesfully!!!\n",
            "***********************************\n"
          ]
        }
      ]
    },
    {
      "cell_type": "code",
      "metadata": {
        "colab": {
          "base_uri": "https://localhost:8080/"
        },
        "id": "D_z_bCEVhUUn",
        "outputId": "aa2b81df-f257-404e-a561-a6d0e0cdbe78"
      },
      "source": [
        "XGB= XGBRegressor(objective ='reg:linear', verbosity = 0, random_state=42)\n",
        "param={\"max_depth\":[5 , 10 , 15 , 20],\n",
        "       \"min_samples_split\":[2 , 4 , 8 , 10],\n",
        "       \"min_samples_leaf\":[1 , 5 , 10 , 15],\n",
        "       \"learning_rate\":[0.1 , 0.01 , 0.001 ],\n",
        "       \"n_estimators\":[100 , 200 , 300]}\n",
        "best_model =train_model(XGB , X_FE , Y_FE ,  param , \"XGB_FE\" , test_FE)"
      ],
      "execution_count": null,
      "outputs": [
        {
          "name": "stdout",
          "output_type": "stream",
          "text": [
            "***********************************\n",
            "best_model param max_depth : 20\n",
            "best_model param min_samples_split : 4\n",
            "best_model param min_samples_leaf : 1\n",
            "best_model param learning_rate : 0.01\n",
            "best_model param n_estimators : 300\n",
            "***********************************\n",
            "train R2 score: 0.6492724296404032\n",
            "***********************************\n",
            "time required: 710.7077991962433\n",
            "***********************************\n",
            "submission file saved succesfully!!!\n",
            "best model saved succesfully!!!\n",
            "***********************************\n"
          ]
        }
      ]
    },
    {
      "cell_type": "code",
      "metadata": {
        "colab": {
          "base_uri": "https://localhost:8080/"
        },
        "id": "2_KXjA9FhUXl",
        "outputId": "91d6eaf6-a3de-4a86-d6e9-125ea20ea21f"
      },
      "source": [
        "XGB= XGBRegressor(objective ='reg:linear', verbosity = 0, random_state=42)\n",
        "param={\"max_depth\":[5 , 10 , 15 , 20],\n",
        "       \"min_samples_split\":[2 , 4 , 8 , 10],\n",
        "       \"min_samples_leaf\":[1 , 5 , 10 , 15],\n",
        "       \"learning_rate\":[0.1 , 0.01 , 0.001 ],\n",
        "       \"n_estimators\":[100 , 200 , 300]}\n",
        "best_model=train_model(XGB , X_original , Y_original , param ,\"XGB_original\" , test_original)"
      ],
      "execution_count": null,
      "outputs": [
        {
          "name": "stdout",
          "output_type": "stream",
          "text": [
            "***********************************\n",
            "best_model param max_depth : 20\n",
            "best_model param min_samples_split : 8\n",
            "best_model param min_samples_leaf : 15\n",
            "best_model param learning_rate : 0.1\n",
            "best_model param n_estimators : 100\n",
            "***********************************\n",
            "train R2 score: 0.998286012791315\n",
            "***********************************\n",
            "time required: 390.90516567230225\n",
            "***********************************\n",
            "submission file saved succesfully!!!\n",
            "best model saved succesfully!!!\n",
            "***********************************\n"
          ]
        }
      ]
    },
    {
      "cell_type": "code",
      "metadata": {
        "id": "NQ4JKuPahUal"
      },
      "source": [
        ""
      ],
      "execution_count": null,
      "outputs": []
    },
    {
      "cell_type": "markdown",
      "metadata": {
        "id": "jjzlPT0oII31"
      },
      "source": [
        "# Custom Ensemble with different models\n",
        "\n",
        "\n",
        "\n"
      ]
    },
    {
      "cell_type": "code",
      "metadata": {
        "id": "qaJhFrnPS7dt"
      },
      "source": [
        "with open('/content/drive/MyDrive/Case_study mercedes_Manufacturing/data/df_train_top100.pkl','rb') as f:\n",
        "  train = pickle.load(f)\n",
        "\n",
        "with open('/content/drive/MyDrive/Case_study mercedes_Manufacturing/data/df_test_top100.pkl','rb') as k:\n",
        "  test = pickle.load(k)  "
      ],
      "execution_count": null,
      "outputs": []
    },
    {
      "cell_type": "code",
      "metadata": {
        "id": "YEXVUh-NgWRs"
      },
      "source": [
        "def custom_ensemble(train ,test ,K ,data_point, dim  ,model , meta_model  ,df_test=df_test):\n",
        "  start = time.time()\n",
        "  test_pred_list=[] ;test_data_pred_list=[];test_final_pred_list=[]\n",
        "  line=\"*\"*40\n",
        "  train_data ,test_data=train_test_split(train , test_size=0.20 , random_state=45)   # splitting train data into train_X & test_X  with test_size=0.20\n",
        "  D1 , D2 =train_test_split(train_data , test_size=0.50 , random_state=45)           #splitting train_X  into D1 & D2 with 50% split\n",
        "\n",
        "  lasso_reg= joblib.load(\"/content/drive/MyDrive/Case_study mercedes_Manufacturing/models/best_model_reg_\"+data)   #loading best models\n",
        "  DT=joblib.load(\"/content/drive/MyDrive/Case_study mercedes_Manufacturing/models/best_model_DT_\"+data)\n",
        "  RF=joblib.load(\"/content/drive/MyDrive/Case_study mercedes_Manufacturing/models/best_model_RF_\"+data)\n",
        "  XGB=joblib.load(\"/content/drive/MyDrive/Case_study mercedes_Manufacturing/models/best_model_XGB_\"+data)\n",
        "  models_list= [lasso_reg ,DT , RF , XGB] ; k_datasets=[] ;models= [lasso_reg ,DT , RF , XGB] \n",
        "  for i in range(0 , K):                                                             # we are making K datasets from D1\n",
        "    k_datasets.append(D1[np.random.choice(D1.shape[0],data_point, replace=False)])\n",
        "\n",
        "  k_models=list(random.choices(models_list, k=K))                                    # k no. of best  models \n",
        "  test_D2=D2[: ,0:dim];test_Y_D2=D2[: ,dim] ;X_test=test_data[: ,0:dim];Y_test=test_data[: ,dim] ; X_final=test[: ,0:dim]\n",
        "\n",
        "  for i  ,j in tqdm(enumerate(k_datasets)):                                          # training each model with each  k datasets\n",
        "    data=k_datasets[i]\n",
        "    X=data[: ,0:dim] ; Y=data[: ,dim]\n",
        "    model=k_models[i].fit(X , Y)\n",
        "    test_pred=model.predict(test_D2) ;test_pred_list.append(test_pred) ;test_data_pred=model.predict(X_test) ;test_data_pred_list.append(test_data_pred) \n",
        "    test_final_pred=model.predict(X_final) ; test_final_pred_list.append(test_final_pred)\n",
        "\n",
        "  test_pred_stack_D2=np.vstack((test_pred_list)).T ;test_data_stack=np.vstack((test_data_pred_list)).T # stacking K predicted target variable Y\n",
        "  test_final_stack=np.vstack((test_final_pred_list)).T\n",
        "  model_meta=meta_model.fit(test_pred_stack_D2 ,test_Y_D2)                                              #training meta model with stacked target variable \n",
        "  print()\n",
        "  print(line)\n",
        "  print(f\"train R2 score is {r2_score(test_Y_D2 ,model_meta.predict(test_pred_stack_D2))}\")              # R2 score on test data\n",
        "  print(line)\n",
        "  print(f\"test data R2 score is {r2_score(Y_test ,model_meta.predict(test_data_stack))}\")\n",
        "  print(line)\n",
        "  print(f\"time required: {time.time() - start}\")\n",
        "  print(line)\n",
        "  y_pred_test=model_meta.predict(test_final_stack)                                                      # predicting target variable on meta data model\n",
        "  submission_df=pd.DataFrame({\"ID\" :df_test[\"ID\"] ,\"y\":y_pred_test})\n",
        "  return submission_df"
      ],
      "execution_count": null,
      "outputs": []
    },
    {
      "cell_type": "markdown",
      "metadata": {
        "id": "8qr1HH39W3nT"
      },
      "source": [
        "Lasso K=10 , data_point=1000 , data=top100"
      ]
    },
    {
      "cell_type": "code",
      "metadata": {
        "colab": {
          "base_uri": "https://localhost:8080/"
        },
        "id": "up6ZctNsiN8o",
        "outputId": "9e925570-eeec-49b4-955b-d2fcbde6d80c"
      },
      "source": [
        "model=linear_model.Lasso()\n",
        "submission_CE_100=custom_ensemble(train ,test ,\n",
        "                                  K=10 , \n",
        "                                  data_point=1000,\n",
        "                                  dim=291 ,\n",
        "                                  model=model1,meta_model=model)"
      ],
      "execution_count": null,
      "outputs": [
        {
          "name": "stderr",
          "output_type": "stream",
          "text": [
            "10it [09:02, 54.27s/it]"
          ]
        },
        {
          "name": "stdout",
          "output_type": "stream",
          "text": [
            "\n",
            "****************************************\n",
            "train R2 score is 0.5785281666681744\n",
            "****************************************\n",
            "test data R2 score is 0.588579736704218\n",
            "****************************************\n",
            "time required: 542.8286216259003\n",
            "****************************************\n"
          ]
        },
        {
          "name": "stderr",
          "output_type": "stream",
          "text": [
            "\n"
          ]
        }
      ]
    },
    {
      "cell_type": "code",
      "metadata": {
        "id": "JZZ4QYs6hPRW"
      },
      "source": [
        "submission_CE_100.to_csv(\"/content/Case_study_submissions/submission_\"+\"CE_100\",index=False)"
      ],
      "execution_count": null,
      "outputs": []
    },
    {
      "cell_type": "markdown",
      "metadata": {
        "id": "D67ewu0lXg7U"
      },
      "source": [
        "meta_model=Lasso , k=15 , datapoint=1000 , data=train_FE"
      ]
    },
    {
      "cell_type": "code",
      "metadata": {
        "colab": {
          "base_uri": "https://localhost:8080/"
        },
        "id": "Ms5VKZQ-lQUT",
        "outputId": "8a18a7ab-2fe1-4522-d2e2-a25c8c204ec9"
      },
      "source": [
        "model=linear_model.Lasso()\n",
        "submission_CE_FE=custom_ensemble(train_FE ,test_FE , K=15 , data_point=1000, dim=277 ,data=\"FE\",meta_model=model)"
      ],
      "execution_count": null,
      "outputs": [
        {
          "name": "stderr",
          "output_type": "stream",
          "text": [
            "15it [14:27, 57.84s/it]"
          ]
        },
        {
          "name": "stdout",
          "output_type": "stream",
          "text": [
            "\n",
            "****************************************\n",
            "train R2 score is 0.5862371325028449\n",
            "****************************************\n",
            "test data R2 score is 0.5649546175941406\n",
            "****************************************\n",
            "time required: 867.7395405769348\n",
            "****************************************\n"
          ]
        },
        {
          "name": "stderr",
          "output_type": "stream",
          "text": [
            "\n"
          ]
        }
      ]
    },
    {
      "cell_type": "code",
      "metadata": {
        "id": "M9v06kC1jQ4_"
      },
      "source": [
        "submission_CE_FE.to_csv(\"/content/Case_study_submissions/submission_\"+\"CE_FE\",index=False)"
      ],
      "execution_count": null,
      "outputs": []
    },
    {
      "cell_type": "code",
      "metadata": {
        "id": "_l-dX99Sbx-1"
      },
      "source": [
        "train_original_np=train_original.to_numpy(dtype ='float32')\n",
        "test_original_np=test_original.to_numpy(dtype ='float32')"
      ],
      "execution_count": null,
      "outputs": []
    },
    {
      "cell_type": "code",
      "metadata": {
        "colab": {
          "base_uri": "https://localhost:8080/"
        },
        "id": "eqaSojX_lQXH",
        "outputId": "1cc5d81b-a03c-40eb-ee9f-198b8f2b3fb7"
      },
      "source": [
        "model=linear_model.Lasso()\n",
        "submission_CE_original=custom_ensemble(train_original_np ,test_original_np , K=15 , data_point=1000, dim=257 ,data=\"original\",meta_model=model)"
      ],
      "execution_count": null,
      "outputs": [
        {
          "name": "stderr",
          "output_type": "stream",
          "text": [
            "15it [10:43, 42.88s/it]"
          ]
        },
        {
          "name": "stdout",
          "output_type": "stream",
          "text": [
            "\n",
            "****************************************\n",
            "train R2 score is 0.5860088689369656\n",
            "****************************************\n",
            "test data R2 score is 0.5904494966306111\n",
            "****************************************\n",
            "time required: 643.3167154788971\n",
            "****************************************\n"
          ]
        },
        {
          "name": "stderr",
          "output_type": "stream",
          "text": [
            "\n"
          ]
        }
      ]
    },
    {
      "cell_type": "code",
      "metadata": {
        "id": "iQlcuPT4l_2G"
      },
      "source": [
        "submission_CE_original.to_csv(\"/content/Case_study_submissions/submission_\"+\"CE_original\",index=False)"
      ],
      "execution_count": null,
      "outputs": []
    },
    {
      "cell_type": "code",
      "metadata": {
        "id": "RYgPc4EgavPe"
      },
      "source": [
        ""
      ],
      "execution_count": null,
      "outputs": []
    },
    {
      "cell_type": "code",
      "metadata": {
        "id": "RfVZFLmGAbUb"
      },
      "source": [
        ""
      ],
      "execution_count": null,
      "outputs": []
    },
    {
      "cell_type": "code",
      "metadata": {
        "id": "2TZtaNFvAbXz"
      },
      "source": [
        ""
      ],
      "execution_count": null,
      "outputs": []
    },
    {
      "cell_type": "markdown",
      "metadata": {
        "id": "L6eEnJonFX1n"
      },
      "source": [
        "# Custom Ensemble with Same models"
      ]
    },
    {
      "cell_type": "code",
      "metadata": {
        "id": "75IP_kTwFbAK"
      },
      "source": [
        "def custom_ensemble(train ,test ,K ,data_point, dim  , model ,meta_model  ,df_test=df_test):\n",
        "  start = time.time()\n",
        "  test_pred_list=[] ;test_data_pred_list=[];test_final_pred_list=[] ;k_datasets=[]\n",
        "  line=\"*\"*40\n",
        "  train_data ,test_data=train_test_split(train , test_size=0.20 , random_state=45)     # splitting train data into train_X & test_X  with test_size=0.20\n",
        "  D1 , D2 =train_test_split(train_data , test_size=0.50 , random_state=45)             # training meta model with stacked target variable \n",
        "  for i in range(0 , K):\n",
        "    k_datasets.append(D1[np.random.choice(D1.shape[0],data_point, replace=False)])\n",
        "  test_D2=D2[: ,0:dim];test_Y_D2=D2[: ,dim] ;X_test=test_data[: ,0:dim];Y_test=test_data[: ,dim] ;X_final=test[: ,0:dim]\n",
        "\n",
        "  for i  ,j in tqdm(enumerate(k_datasets)):                                             # training each model with each  k datasets\n",
        "    data=k_datasets[i]\n",
        "    X=data[: ,0:dim] ; Y=data[: ,dim]\n",
        "    model1=model.fit(X , Y)\n",
        "\n",
        "    test_pred=model1.predict(test_D2)\n",
        "    test_pred_list.append(test_pred)\n",
        "\n",
        "    test_data_pred=model1.predict(X_test)\n",
        "    test_data_pred_list.append(test_data_pred)\n",
        "\n",
        "    test_final_pred=model1.predict(X_final)\n",
        "    test_final_pred_list.append(test_final_pred)\n",
        "\n",
        "  test_pred_stack_D2=np.vstack((test_pred_list)).T ; test_data_stack=np.vstack((test_data_pred_list)).T  #stacking predicted values from K datasets\n",
        "  test_final_stack=np.vstack((test_final_pred_list)).T\n",
        "\n",
        "  model_meta=meta_model.fit(test_pred_stack_D2 ,test_Y_D2)                              # training meta model on predicted values\n",
        "  print()\n",
        "  print(line)\n",
        "  print(f\"train R2 score is {r2_score(test_Y_D2 ,model_meta.predict(test_pred_stack_D2))}\")   # R2 score on test data\n",
        "  print(line)\n",
        "  print(f\"test data R2 score is {r2_score(Y_test ,model_meta.predict(test_data_stack))}\")\n",
        "  print(line)\n",
        "  print(f\"time required: {time.time() - start}\")\n",
        "  print(line)\n",
        "  y_pred_test=model_meta.predict(test_final_stack)                                      # predicting target variable on meta data model\n",
        "  submission_df=pd.DataFrame({\"ID\" :df_test[\"ID\"] ,\"y\":y_pred_test})\n",
        "  return submission_df"
      ],
      "execution_count": null,
      "outputs": []
    },
    {
      "cell_type": "code",
      "metadata": {
        "colab": {
          "base_uri": "https://localhost:8080/"
        },
        "id": "2TiWjpDWGG5j",
        "outputId": "4b30444e-d8e5-49b5-fe87-c32d3254376e"
      },
      "source": [
        "model=linear_model.Lasso()\n",
        "data=\"FE\"\n",
        "regressor = DecisionTreeRegressor()\n",
        "DT=joblib.load(\"/content/drive/MyDrive/Case_study mercedes_Manufacturing/models/best_model_DT_\"+data)\n",
        "\n",
        "submission_df=custom_ensemble(train_FE ,test_FE ,\n",
        "                              K=25 , \n",
        "                              data_point=1500,\n",
        "                              dim=277 ,\n",
        "                              model=DT ,\n",
        "                              meta_model=model)"
      ],
      "execution_count": null,
      "outputs": [
        {
          "output_type": "stream",
          "name": "stderr",
          "text": [
            "25it [00:48,  1.93s/it]"
          ]
        },
        {
          "output_type": "stream",
          "name": "stdout",
          "text": [
            "\n",
            "****************************************\n",
            "train R2 score is 0.5837857901023645\n",
            "****************************************\n",
            "test data R2 score is 0.5685574822080066\n",
            "****************************************\n",
            "time required: 48.28375959396362\n",
            "****************************************\n"
          ]
        },
        {
          "output_type": "stream",
          "name": "stderr",
          "text": [
            "\n"
          ]
        }
      ]
    },
    {
      "cell_type": "markdown",
      "metadata": {
        "id": "83qmRYSVJ0v1"
      },
      "source": [
        "0.53628\n",
        "0.53834"
      ]
    },
    {
      "cell_type": "code",
      "metadata": {
        "id": "rCU6xaNRJKG6"
      },
      "source": [
        "submission_df.to_csv(\"/content/Case_study_submissions/submission_\"+\"CEs_FE\",index=False)"
      ],
      "execution_count": null,
      "outputs": []
    },
    {
      "cell_type": "code",
      "metadata": {
        "id": "eY-OmveBJQJg"
      },
      "source": [
        ""
      ],
      "execution_count": null,
      "outputs": []
    },
    {
      "cell_type": "code",
      "metadata": {
        "id": "1PMQiRlTFbLo",
        "colab": {
          "base_uri": "https://localhost:8080/"
        },
        "outputId": "10afdb9d-7f54-484b-9460-0508b3f70e8c"
      },
      "source": [
        "model=linear_model.Lasso()\n",
        "data=\"original\"\n",
        "regressor = DecisionTreeRegressor()\n",
        "RF=joblib.load(\"/content/drive/MyDrive/Case_study mercedes_Manufacturing/models/best_model_RF_\"+data)\n",
        "\n",
        "submission_CE_FE=custom_ensemble(train_original_np ,test_original_np,\n",
        "                                 K=25 , \n",
        "                                 data_point=1500,\n",
        "                                 dim=257 ,\n",
        "                                 model=DT ,\n",
        "                                 meta_model=model)"
      ],
      "execution_count": null,
      "outputs": [
        {
          "output_type": "stream",
          "name": "stderr",
          "text": [
            "25it [00:24,  1.00it/s]"
          ]
        },
        {
          "output_type": "stream",
          "name": "stdout",
          "text": [
            "\n",
            "****************************************\n",
            "train R2 score is 0.5854309442183603\n",
            "****************************************\n",
            "test data R2 score is 0.584196368699575\n",
            "****************************************\n",
            "time required: 24.982601165771484\n",
            "****************************************\n"
          ]
        },
        {
          "output_type": "stream",
          "name": "stderr",
          "text": [
            "\n"
          ]
        }
      ]
    },
    {
      "cell_type": "code",
      "metadata": {
        "id": "HEU2vcbfFbOY"
      },
      "source": [
        "submission_df.to_csv(\"/content/Case_study_submissions/submission_\"+\"CEs_original\",index=False)"
      ],
      "execution_count": null,
      "outputs": []
    },
    {
      "cell_type": "code",
      "metadata": {
        "id": "Bm-HQZ0xFbRO"
      },
      "source": [
        ""
      ],
      "execution_count": null,
      "outputs": []
    },
    {
      "cell_type": "markdown",
      "metadata": {
        "id": "wVCBAY3AINDV"
      },
      "source": [
        "# Avg modeling"
      ]
    },
    {
      "cell_type": "code",
      "metadata": {
        "id": "1mtN35NheA1v"
      },
      "source": [
        "def avg_mode(train ,test ,dim  ,model_1):\n",
        "  start = time.time()\n",
        "  num_boost_rounds = 1250 \n",
        "  X=train[: ,0:dim]\n",
        "  Y=train[: ,dim]\n",
        "  y_mean = np.mean(Y)\n",
        "  model_1.fit(X, Y) #train model one\n",
        "  joblib_file = \"/content/\"+\"avg_model_XGB\"\n",
        "  joblib.dump(model_1, joblib_file)\n",
        "  y_tr_pred1 = model_1.predict(X)\n",
        "  p1 = model_1.predict(test)       #predict on model one\n",
        "  dtrain = xgb.DMatrix(X , Y)\n",
        "  dtest = xgb.DMatrix(test)      \n",
        "  xgb_params = {'eta': 0.0045,'max_depth': 4,'subsample': 0.93, 'eval_metric': 'rmse',\n",
        "                    'base_score': y_mean, 'colsample_bytree': 0.7, 'seed': 2}\n",
        "  model_2 = xgb.train(xgb_params, dtrain, num_boost_round=num_boost_rounds)\n",
        "  joblib_file = \"/content/\"+\"avg_model_2\"\n",
        "  joblib.dump(model_2, joblib_file)\n",
        "  y_tr_pred2 = model_2.predict(dtrain)\n",
        "  p2 = model_2.predict(dtest)       #predict on model two\n",
        "  avg_pred = (y_tr_pred1+y_tr_pred2)/2\n",
        "  print(\"*\" *40)\n",
        "  print(r2_score(Y, avg_pred))\n",
        "  print(\"*\" *40)\n",
        "  final_pred = (p1+p2)/2\n",
        "  submission_df=pd.DataFrame({\"ID\" :df_test[\"ID\"] ,\"y\":final_pred})\n",
        "  print(\"*\" *40)\n",
        "  print(f\"time required: {time.time() - start}\")\n",
        "  print(\"*\" *40)\n",
        "\n",
        "  return submission_df"
      ],
      "execution_count": null,
      "outputs": []
    },
    {
      "cell_type": "code",
      "metadata": {
        "colab": {
          "base_uri": "https://localhost:8080/"
        },
        "id": "LH6j8p3oDxk7",
        "outputId": "bc3293d0-4cd5-4354-dac3-9c9734d51d29"
      },
      "source": [
        "XGB= joblib.load(\"/content/drive/MyDrive/Case_study mercedes_Manufacturing/models/best_model_XGB_\"+\"original\")"
      ],
      "execution_count": null,
      "outputs": [
        {
          "output_type": "stream",
          "name": "stdout",
          "text": [
            "[15:57:14] WARNING: /workspace/src/objective/regression_obj.cu:152: reg:linear is now deprecated in favor of reg:squarederror.\n"
          ]
        }
      ]
    },
    {
      "cell_type": "markdown",
      "metadata": {
        "id": "YEuxfjP2Mc8a"
      },
      "source": [
        "best_model param max_depth : 20\n",
        "\n",
        "best_model param min_samples_split : 8\n",
        "\n",
        "best_model param min_samples_leaf : 15\n",
        "\n",
        "best_model param learning_rate : 0.1\n",
        "\n",
        "best_model param n_estimators : 100"
      ]
    },
    {
      "cell_type": "code",
      "metadata": {
        "id": "Wc4ys6uEM4nX"
      },
      "source": [
        "train_original_np=train_original.to_numpy(dtype ='float32')\n",
        "test_original_np=test_original.to_numpy(dtype ='float32')"
      ],
      "execution_count": null,
      "outputs": []
    },
    {
      "cell_type": "code",
      "metadata": {
        "colab": {
          "base_uri": "https://localhost:8080/"
        },
        "id": "hdpKxR2eMQ_Z",
        "outputId": "f534d77c-5659-4965-8629-4ee3c279ff71"
      },
      "source": [
        "# XGB=XGBRegressor(max_depth = 20 ,min_samples_split = 8 , min_samples_leaf = 15 , learning_rate = 0.1 ,n_estimators =100)\n",
        "# joblib_file = \"/content/drive/MyDrive/Case_study mercedes_Manufacturing/models_\"+\"avg_model_XGB\"\n",
        "# joblib.dump(XGB, joblib_file)"
      ],
      "execution_count": null,
      "outputs": [
        {
          "output_type": "execute_result",
          "data": {
            "text/plain": [
              "['/content/drive/MyDrive/Case_study mercedes_Manufacturing/models_avg_model_XGB']"
            ]
          },
          "metadata": {},
          "execution_count": 13
        }
      ]
    },
    {
      "cell_type": "code",
      "metadata": {
        "id": "0SRXosiGzqSN"
      },
      "source": [
        ""
      ],
      "execution_count": null,
      "outputs": []
    },
    {
      "cell_type": "code",
      "metadata": {
        "id": "-iZ4y2XABH3X"
      },
      "source": [
        "submission_df.to_csv(\"/content/Case_study_submissions/submission_\"+\"AM_original\",index=False)"
      ],
      "execution_count": null,
      "outputs": []
    },
    {
      "cell_type": "code",
      "metadata": {
        "colab": {
          "base_uri": "https://localhost:8080/"
        },
        "id": "iRAlutMVeA32",
        "outputId": "c8aa7b65-17cc-4d1e-fd98-27fef94f5ba2"
      },
      "source": [
        "model_1 = XGBRegressor(base_score=0.5, booster='gbtree', colsample_bylevel=1,\n",
        "             colsample_bynode=1, colsample_bytree=0.7, gamma=3, gpu_id=0,\n",
        "             importance_type='gain', interaction_constraints='',\n",
        "             learning_rate=0.1, max_delta_step=0, max_depth=2,\n",
        "             min_child_weight=1,\n",
        "             n_estimators=100, n_jobs=-1, num_parallel_tree=1, random_state=42,\n",
        "             reg_alpha=10.0, reg_lambda=1, scale_pos_weight=1, subsample=0.93,\n",
        "             tree_method='exact', validate_parameters=1)\n",
        "\n",
        "submission_df=avg_mode(train_original_np ,test_original_np ,257  ,model_1 ) "
      ],
      "execution_count": null,
      "outputs": [
        {
          "output_type": "stream",
          "name": "stdout",
          "text": [
            "[15:57:28] WARNING: /workspace/src/objective/regression_obj.cu:152: reg:linear is now deprecated in favor of reg:squarederror.\n",
            "****************************************\n",
            "0.6135039252519263\n",
            "****************************************\n",
            "****************************************\n",
            "time required: 23.007107734680176\n",
            "****************************************\n"
          ]
        }
      ]
    },
    {
      "cell_type": "code",
      "metadata": {
        "colab": {
          "base_uri": "https://localhost:8080/"
        },
        "id": "hdPVTnmXK2L_",
        "outputId": "8ffee179-459a-43a8-c84d-fef7ce49f85e"
      },
      "source": [
        "model_1 = XGBRegressor(base_score=0.5, booster='gbtree', colsample_bylevel=1,\n",
        "             colsample_bynode=1, colsample_bytree=0.7, gamma=3, gpu_id=0,\n",
        "             importance_type='gain', interaction_constraints='',\n",
        "             learning_rate=0.1, max_delta_step=0, max_depth=2,\n",
        "             min_child_weight=1,\n",
        "             n_estimators=100, n_jobs=-1, num_parallel_tree=1, random_state=42,\n",
        "             reg_alpha=10.0, reg_lambda=1, scale_pos_weight=1, subsample=0.93,\n",
        "             tree_method='exact', validate_parameters=1)\n",
        "\n",
        "submission_df=avg_mode(train_FE ,test_FE ,277  ,model_1 ) "
      ],
      "execution_count": null,
      "outputs": [
        {
          "output_type": "stream",
          "name": "stdout",
          "text": [
            "[16:00:43] WARNING: /workspace/src/objective/regression_obj.cu:152: reg:linear is now deprecated in favor of reg:squarederror.\n",
            "****************************************\n",
            "0.6376203874798019\n",
            "****************************************\n",
            "****************************************\n",
            "time required: 27.55612325668335\n",
            "****************************************\n"
          ]
        }
      ]
    },
    {
      "cell_type": "code",
      "metadata": {
        "id": "vZLAY-vlaviw"
      },
      "source": [
        "submission_df.to_csv(\"/content/Case_study_submissions/submission_\"+\"AM_FE\",index=False)"
      ],
      "execution_count": null,
      "outputs": []
    },
    {
      "cell_type": "code",
      "metadata": {
        "id": "iR-il4faL1sC"
      },
      "source": [
        ""
      ],
      "execution_count": null,
      "outputs": []
    },
    {
      "cell_type": "markdown",
      "metadata": {
        "id": "5KzK6Ny1lnfY"
      },
      "source": [
        "# Model Scores"
      ]
    },
    {
      "cell_type": "code",
      "metadata": {
        "colab": {
          "base_uri": "https://localhost:8080/"
        },
        "id": "316qjQ0klQaP",
        "outputId": "0534b43d-cadc-4ebc-a400-6ccd5aa45e40"
      },
      "source": [
        "from tabulate import tabulate\n",
        "table = [['model', 'data', 'R2_Train_Score' , 'R2_private_score' , 'R2_public_score'], \n",
        "         ['Lasso Regressor', \"Top_100_Binary_&_7cat_OHT\"  , 0.3681, 0.37208,0.37404],\n",
        "         ['Lasso Regressor','Original_features_&_PCA,SVD_component10' ,0.4383  , 0.4108 ,0.41634],\n",
        "         [\"Lasso Regressor\" ,'Original_binary_&_LE_cat_feat' ,0.37284 , 0.37610 , 0.38550],\n",
        "\n",
        "         ['Decision Tree', \"Top_100_Binary_&_7cat_OHT\"  ,0.5806,0.5438 ,0.54620],\n",
        "         ['Decision Tree','Original_features_&_PCA,SVD_component10' ,0.58605 ,0.53522 ,0.56041],\n",
        "         [\"Decision Tree\" ,'Original_binary_&_LE_cat_feat' ,0.6172 ,0.51651 ,0.53424] , \n",
        "\n",
        "         ['Random Forest' , 'Top_100_Binary_&_7cat_OHT' ,0.5870 ,0.54616 ,0.5505] ,\n",
        "         ['Random Forest' ,'Original_features_&_PCA,SVD_component10' ,0.5898 ,0.54119 , 0.55309] , \n",
        "         ['Random Forest' ,'Original_binary_&_LE_cat_feat',0.5838 , 0.54363 , 0.55400] ,\n",
        "\n",
        "         ['XGBoost regressor' , 'Top_100_Binary_&_7cat_OHT' ,0.6881 , 0.52547 , 0.55113],\n",
        "         ['XGBoost regressor' , 'Original_features_&_PCA,SVD_component10' ,0.6492 , 0.31139 , 0.3412],\n",
        "         ['XGBoost regressor' ,'Original_binary_&_LE_cat_feat',0.9982 , 0.42864 , 0.32162 ] ,\n",
        "\n",
        "         ['Custom Ensemble_diff', \"Top_100_Binary_&_7cat_OHT\"  , 0.5885 , 0.53501,0.54139],\n",
        "         ['Custom Ensemble_diff','Original_features_&_PCA,SVD_component10' ,0.5649  ,0.53225 ,0.55880],\n",
        "         [\"Custom Ensemble_diff\" ,'Original_binary_&_LE_cat_feat' ,0.5944 ,0.54340 ,0.54611] ,\n",
        "\n",
        "         ['Custom Ensemble_same','Original_features_&_PCA,SVD_component10' ,0.5837  ,0.52991 ,0.53663],\n",
        "         [\"Custom Ensemble_same\" ,'Original_binary_&_LE_cat_feat' ,0.5854 ,0.53662 ,0.54199] ,\n",
        "\n",
        "         ['AVG_Model_XGB' , 'Original_binary_&_OHT_cat_feat' ,0.61 , 0.55201 ,0.55446] ,\n",
        "         ['AVG_Model_XGB' , 'Original_features_&_PCA,SVD_component10' ,0.6373 , 0.54226 ,0.55908]]\n",
        "\n",
        "print(tabulate(table, headers='firstrow', tablefmt='grid'))"
      ],
      "execution_count": null,
      "outputs": [
        {
          "output_type": "stream",
          "name": "stdout",
          "text": [
            "+----------------------+-----------------------------------------+------------------+--------------------+-------------------+\n",
            "| model                | data                                    |   R2_Train_Score |   R2_private_score |   R2_public_score |\n",
            "+======================+=========================================+==================+====================+===================+\n",
            "| Lasso Regressor      | Top_100_Binary_&_7cat_OHT               |          0.3681  |            0.37208 |           0.37404 |\n",
            "+----------------------+-----------------------------------------+------------------+--------------------+-------------------+\n",
            "| Lasso Regressor      | Original_features_&_PCA,SVD_component10 |          0.4383  |            0.4108  |           0.41634 |\n",
            "+----------------------+-----------------------------------------+------------------+--------------------+-------------------+\n",
            "| Lasso Regressor      | Original_binary_&_LE_cat_feat           |          0.37284 |            0.3761  |           0.3855  |\n",
            "+----------------------+-----------------------------------------+------------------+--------------------+-------------------+\n",
            "| Decision Tree        | Top_100_Binary_&_7cat_OHT               |          0.5806  |            0.5438  |           0.5462  |\n",
            "+----------------------+-----------------------------------------+------------------+--------------------+-------------------+\n",
            "| Decision Tree        | Original_features_&_PCA,SVD_component10 |          0.58605 |            0.53522 |           0.56041 |\n",
            "+----------------------+-----------------------------------------+------------------+--------------------+-------------------+\n",
            "| Decision Tree        | Original_binary_&_LE_cat_feat           |          0.6172  |            0.51651 |           0.53424 |\n",
            "+----------------------+-----------------------------------------+------------------+--------------------+-------------------+\n",
            "| Random Forest        | Top_100_Binary_&_7cat_OHT               |          0.587   |            0.54616 |           0.5505  |\n",
            "+----------------------+-----------------------------------------+------------------+--------------------+-------------------+\n",
            "| Random Forest        | Original_features_&_PCA,SVD_component10 |          0.5898  |            0.54119 |           0.55309 |\n",
            "+----------------------+-----------------------------------------+------------------+--------------------+-------------------+\n",
            "| Random Forest        | Original_binary_&_LE_cat_feat           |          0.5838  |            0.54363 |           0.554   |\n",
            "+----------------------+-----------------------------------------+------------------+--------------------+-------------------+\n",
            "| XGBoost regressor    | Top_100_Binary_&_7cat_OHT               |          0.6881  |            0.52547 |           0.55113 |\n",
            "+----------------------+-----------------------------------------+------------------+--------------------+-------------------+\n",
            "| XGBoost regressor    | Original_features_&_PCA,SVD_component10 |          0.6492  |            0.31139 |           0.3412  |\n",
            "+----------------------+-----------------------------------------+------------------+--------------------+-------------------+\n",
            "| XGBoost regressor    | Original_binary_&_LE_cat_feat           |          0.9982  |            0.42864 |           0.32162 |\n",
            "+----------------------+-----------------------------------------+------------------+--------------------+-------------------+\n",
            "| Custom Ensemble_diff | Top_100_Binary_&_7cat_OHT               |          0.5885  |            0.53501 |           0.54139 |\n",
            "+----------------------+-----------------------------------------+------------------+--------------------+-------------------+\n",
            "| Custom Ensemble_diff | Original_features_&_PCA,SVD_component10 |          0.5649  |            0.53225 |           0.5588  |\n",
            "+----------------------+-----------------------------------------+------------------+--------------------+-------------------+\n",
            "| Custom Ensemble_diff | Original_binary_&_LE_cat_feat           |          0.5944  |            0.5434  |           0.54611 |\n",
            "+----------------------+-----------------------------------------+------------------+--------------------+-------------------+\n",
            "| Custom Ensemble_same | Original_features_&_PCA,SVD_component10 |          0.5837  |            0.52991 |           0.53663 |\n",
            "+----------------------+-----------------------------------------+------------------+--------------------+-------------------+\n",
            "| Custom Ensemble_same | Original_binary_&_LE_cat_feat           |          0.5854  |            0.53662 |           0.54199 |\n",
            "+----------------------+-----------------------------------------+------------------+--------------------+-------------------+\n",
            "| AVG_Model_XGB        | Original_binary_&_OHT_cat_feat          |          0.61    |            0.55201 |           0.55446 |\n",
            "+----------------------+-----------------------------------------+------------------+--------------------+-------------------+\n",
            "| AVG_Model_XGB        | Original_features_&_PCA,SVD_component10 |          0.6373  |            0.54226 |           0.55908 |\n",
            "+----------------------+-----------------------------------------+------------------+--------------------+-------------------+\n"
          ]
        }
      ]
    },
    {
      "cell_type": "code",
      "metadata": {
        "id": "mLwoQ-TroQwq"
      },
      "source": [
        ""
      ],
      "execution_count": null,
      "outputs": []
    }
  ]
}