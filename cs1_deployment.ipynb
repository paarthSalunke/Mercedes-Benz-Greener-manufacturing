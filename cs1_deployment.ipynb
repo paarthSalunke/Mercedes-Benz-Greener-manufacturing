{
  "nbformat": 4,
  "nbformat_minor": 0,
  "metadata": {
    "colab": {
      "name": "deployment.ipynb",
      "provenance": [],
      "collapsed_sections": []
    },
    "kernelspec": {
      "name": "python3",
      "display_name": "Python 3"
    },
    "language_info": {
      "name": "python"
    }
  },
  "cells": [
    {
      "cell_type": "code",
      "metadata": {
        "colab": {
          "base_uri": "https://localhost:8080/"
        },
        "id": "8fIFFMLfed80",
        "outputId": "3c6d3b4d-f99c-4866-fe06-8ad85b918f56"
      },
      "source": [
        "!pip install flask_ngrok"
      ],
      "execution_count": null,
      "outputs": [
        {
          "output_type": "stream",
          "name": "stdout",
          "text": [
            "Collecting flask_ngrok\n",
            "  Downloading flask_ngrok-0.0.25-py3-none-any.whl (3.1 kB)\n",
            "Requirement already satisfied: requests in /usr/local/lib/python3.7/dist-packages (from flask_ngrok) (2.23.0)\n",
            "Requirement already satisfied: Flask>=0.8 in /usr/local/lib/python3.7/dist-packages (from flask_ngrok) (1.1.4)\n",
            "Requirement already satisfied: itsdangerous<2.0,>=0.24 in /usr/local/lib/python3.7/dist-packages (from Flask>=0.8->flask_ngrok) (1.1.0)\n",
            "Requirement already satisfied: Werkzeug<2.0,>=0.15 in /usr/local/lib/python3.7/dist-packages (from Flask>=0.8->flask_ngrok) (1.0.1)\n",
            "Requirement already satisfied: click<8.0,>=5.1 in /usr/local/lib/python3.7/dist-packages (from Flask>=0.8->flask_ngrok) (7.1.2)\n",
            "Requirement already satisfied: Jinja2<3.0,>=2.10.1 in /usr/local/lib/python3.7/dist-packages (from Flask>=0.8->flask_ngrok) (2.11.3)\n",
            "Requirement already satisfied: MarkupSafe>=0.23 in /usr/local/lib/python3.7/dist-packages (from Jinja2<3.0,>=2.10.1->Flask>=0.8->flask_ngrok) (2.0.1)\n",
            "Requirement already satisfied: urllib3!=1.25.0,!=1.25.1,<1.26,>=1.21.1 in /usr/local/lib/python3.7/dist-packages (from requests->flask_ngrok) (1.24.3)\n",
            "Requirement already satisfied: idna<3,>=2.5 in /usr/local/lib/python3.7/dist-packages (from requests->flask_ngrok) (2.10)\n",
            "Requirement already satisfied: certifi>=2017.4.17 in /usr/local/lib/python3.7/dist-packages (from requests->flask_ngrok) (2021.10.8)\n",
            "Requirement already satisfied: chardet<4,>=3.0.2 in /usr/local/lib/python3.7/dist-packages (from requests->flask_ngrok) (3.0.4)\n",
            "Installing collected packages: flask-ngrok\n",
            "Successfully installed flask-ngrok-0.0.25\n"
          ]
        }
      ]
    },
    {
      "cell_type": "code",
      "metadata": {
        "id": "KSlcVV5K0diN"
      },
      "source": [
        "from flask import Flask, render_template, request\n",
        "import pickle\n",
        "import numpy as np\n",
        "from flask_ngrok import run_with_ngrok\n",
        "import warnings\n",
        "warnings.filterwarnings('ignore')\n",
        "from sklearn import preprocessing\n",
        "import xgboost as xgb\n",
        "import pandas as pd\n",
        "import joblib\n",
        "import re"
      ],
      "execution_count": null,
      "outputs": []
    },
    {
      "cell_type": "code",
      "metadata": {
        "colab": {
          "base_uri": "https://localhost:8080/"
        },
        "id": "nHjdeb-xR7mC",
        "outputId": "51c7259c-3293-425c-8215-1687115f5734"
      },
      "source": [
        "cd /content/drive/MyDrive/Case_study mercedes_Manufacturing/deployment"
      ],
      "execution_count": null,
      "outputs": [
        {
          "output_type": "stream",
          "name": "stdout",
          "text": [
            "/content/drive/MyDrive/Case_study mercedes_Manufacturing/deployment\n"
          ]
        }
      ]
    },
    {
      "cell_type": "code",
      "metadata": {
        "id": "u36ZzhPVTI1n"
      },
      "source": [
        "with open('encoded/le_dict_X0.pickle', 'rb') as handle:\n",
        "    X0_dict = pickle.load(handle)\n",
        "with open('encoded/le_dict_X1.pickle', 'rb') as handle:\n",
        "    X1_dict = pickle.load(handle)\n",
        "with open('encoded/le_dict_X2.pickle', 'rb') as handle:\n",
        "    X2_dict = pickle.load(handle)\n",
        "with open('encoded/le_dict_X3.pickle', 'rb') as handle:\n",
        "    X3_dict = pickle.load(handle)\n",
        "with open('encoded/le_dict_X5.pickle', 'rb') as handle:\n",
        "    X5_dict = pickle.load(handle)\n",
        "with open('encoded/le_dict_X6.pickle', 'rb') as handle:\n",
        "    X6_dict = pickle.load(handle)\n",
        "with open('encoded/le_dict_X8.pickle', 'rb') as handle:\n",
        "    X8_dict = pickle.load(handle)            \n",
        "dict_cat_feature=[X0_dict , X1_dict , X2_dict , X3_dict , X5_dict , X6_dict , X8_dict]"
      ],
      "execution_count": null,
      "outputs": []
    },
    {
      "cell_type": "code",
      "metadata": {
        "id": "_0atc0o2R7oe"
      },
      "source": [
        "def preprocess_data(train):\n",
        "  '''\n",
        "  in preprocessing function i am label encoding \n",
        "  categorical function\n",
        "  '''\n",
        "  with open('features.pkl', 'rb') as f:\n",
        "   final_label = pickle.load(f)\n",
        "   final_label.remove(\"y\")\n",
        "  df_train=train[final_label]\n",
        "  cat_feat=[\"X0\" ,\"X1\" ,\t\"X2\" ,\t\"X3\" ,\t\"X5\" ,\t\"X6\" ,\t\"X8\"] #categorical function\n",
        "  for i  , j in enumerate(cat_feat):\n",
        "    df_train[j]   = label_encoding_binary(df_train ,j ,dict_cat_feature[i])\n",
        "  return df_train\n",
        "\n",
        "######################################################################\n",
        "def input_list(X):\n",
        "  '''\n",
        "  converting string list into int list\n",
        "  '''\n",
        "  final_list=[]\n",
        "  for i in X[0].split(\",\"):\n",
        "    if i.strip().isdigit():\n",
        "      final_list.append(int(i))\n",
        "    else: final_list.append(i.strip())\n",
        "  return final_list\n",
        "\n",
        "################################################################################\n",
        "def df(test):\n",
        "  ''' \n",
        "  in given function i am converting list into data frame\n",
        "  '''\n",
        "  with open('train_col.pkl', 'rb') as f:\n",
        "    train_col = pickle.load(f)\n",
        "  df=pd.DataFrame(test ,train_col).T\n",
        "  return df\n",
        "################################################################################\n",
        "def label_encoding_binary(df_train  , feature , le_dict):\n",
        "  '''\n",
        "  label encoding each features\n",
        "  '''\n",
        "  labelenc=[]\n",
        "  for i in df_train[feature]:\n",
        "    if i in le_dict:labelenc.append(le_dict[i])\n",
        "    else:labelenc.append(0)\n",
        "  return  labelenc  \n",
        "################################################################################\n",
        "def final1(X):\n",
        "  ''' \n",
        "  in given function i am taking list as input , \n",
        "  converting list into data frame \n",
        "  then label encoding categorical features , \n",
        "  then i am using model 1 and model 2 to predict target variable and  \n",
        "  average both prediction\n",
        "  '''\n",
        "  with open('train_col.pkl', 'rb') as f:\n",
        "    train_col = pickle.load(f)\n",
        "  df=pd.DataFrame(X ,train_col).T\n",
        "  X_processed=preprocess_data(df)\n",
        "  \n",
        "  model1= joblib.load(\"avg_model_XGB\")\n",
        "  model2= joblib.load(\"avg_model_2\")\n",
        "  train_original_np=X_processed.to_numpy(dtype ='float32')\n",
        "\n",
        "  y_pred1 = model1.predict(train_original_np)\n",
        "\n",
        "  dtest = xgb.DMatrix(train_original_np)\n",
        "  y_pred2 = model2.predict(dtest)\n",
        "\n",
        "  avg_pred = (y_pred1+y_pred2)/2\n",
        "  return avg_pred"
      ],
      "execution_count": null,
      "outputs": []
    },
    {
      "cell_type": "code",
      "metadata": {
        "colab": {
          "base_uri": "https://localhost:8080/"
        },
        "id": "hQPHLIG3YFJN",
        "outputId": "9571af0f-0b5c-4a54-9bbf-8f6691e8c0e6"
      },
      "source": [
        "test1=[1 ,'az', 'v' ,'n', 'f' ,'d', 't', 'a', 'w', 0, 0, 0, 0, 0, 0, 0, 0, 0 ,0 ,0 ,0 ,0 ,0 ,0, 0, 1, 1, 1,\n",
        " 0 ,1, 0, 0, 0, 1, 0, 1, 0, 0 ,0 ,0, 0 ,1, 0, 0, 1, 0, 0, 0, 0, 0,0 ,0, 1, 0, 0, 0, 0, 0, 0, 1, 0, 0 ,0, 0, 0,\n",
        " 0, 0 ,0, 1, 0, 0, 1 ,0, 1, 0, 0, 0, 1, 0 ,0, 0, 0 ,0, 0 ,0 ,0, 0, 0 ,0 ,0, 0, 0 ,0, 1 ,0 ,1 ,0 ,0, 1 ,0, 0, 0,\n",
        " 0 ,0, 0 ,0 ,0, 0, 1 ,0 ,0, 1, 0 ,0 ,0, 0, 0, 0, 0, 0, 0, 0 ,0, 0, 1, 0, 0, 0, 1 ,0 ,0, 0, 0, 0 ,0 ,0, 0, 0, 0,\n",
        " 0, 1, 0, 0 ,0 ,1 ,1 ,0 ,0 ,0 ,0 ,0, 0, 1 ,1, 0, 0, 0, 1, 0, 0 ,0 ,1, 0, 0, 0 ,0 ,0 ,0, 0 ,0, 0, 0, 0, 0,1, 0,\n",
        " 0 ,0 ,0 ,0, 1, 0, 0 ,0, 0 ,0 ,0 ,1, 0 ,0 ,0 , 0, 0, 0, 0, 0, 1, 0, 0, 0 ,0 ,1 ,0, 0, 0 ,0, 0, 0,0 ,0 ,1 ,0,\n",
        " 1 ,0, 0 ,1 ,0 ,0 ,0 ,0 ,0, 0, 0 ,0 ,1, 0, 0, 0, 0, 0, 0 ,0 ,0 ,0 ,0 ,0 ,0, 0 ,1 ,0 ,0 ,0 ,1, 0, 0 ,0 ,0, 0, 1,\n",
        " 0 ,0 ,0 ,0 ,0, 0, 0, 0 ,0 ,0, 0 ,0 ,0 ,0 ,0, 1 ,1 ,0 ,0, 1, 0, 0 ,1, 0 ,0, 0, 0, 0, 0, 1, 0, 0, 0 ,0 ,0, 0, 0,\n",
        " 0 ,0 ,0, 0 ,0 ,0, 0 ,0, 0, 1 ,0 ,0, 0, 0, 0, 0, 0, 0, 0, 0, 0 ,0 ,0 ,0 ,0 ,0 ,0, 0 ,0, 0, 0, 0, 0, 1 ,0, 0, 0,\n",
        " 0 ,0 ,1, 0, 0 ,0, 0 ,0, 0, 0, 0 ,0, 0, 0 ,0 ,0, 1, 0, 1 ,0, 0, 0, 0 ,0 ,0 ,0, 1, 0 ,0, 1, 0, 1 ,0, 0 ,0 ,0, 0,\n",
        " 0, 0, 0, 0, 0 ,0 ,0 ,0 ,0, 1, 0 ,0, 0, 0, 0, 0,0]\n",
        "final1(test1)"
      ],
      "execution_count": null,
      "outputs": [
        {
          "output_type": "stream",
          "name": "stdout",
          "text": [
            "[03:18:12] WARNING: /workspace/src/objective/regression_obj.cu:152: reg:linear is now deprecated in favor of reg:squarederror.\n"
          ]
        },
        {
          "output_type": "execute_result",
          "data": {
            "text/plain": [
              "array([86.50781], dtype=float32)"
            ]
          },
          "metadata": {},
          "execution_count": 14
        }
      ]
    },
    {
      "cell_type": "code",
      "metadata": {
        "colab": {
          "base_uri": "https://localhost:8080/"
        },
        "id": "vMM-TrdsR7ro",
        "outputId": "e2d932dd-2744-492f-88c4-18b39a594973"
      },
      "source": [
        "app = Flask(__name__)\n",
        "run_with_ngrok(app)\n",
        "######################################################################\n",
        "@app.route('/')\n",
        "def hello_world():\n",
        "    return 'Hello World!'\n",
        "\n",
        "\n",
        "@app.route('/index')\n",
        "def index():\n",
        "    return flask.render_template('index.html')\n",
        "\n",
        "@app.route('/predict', methods=['POST'])\n",
        "def predict():\n",
        "  to_predict_list = request.form.getlist(\"feature\")\n",
        "  to_predict_list= [n.strip() for n in to_predict_list]\n",
        "  final_list=input_list(to_predict_list)\n",
        "  final_score=final1(final_list)\n",
        "  return str(final_score)\n",
        "######################################################################\n",
        "app.run()"
      ],
      "execution_count": null,
      "outputs": [
        {
          "output_type": "stream",
          "name": "stdout",
          "text": [
            " * Serving Flask app \"__main__\" (lazy loading)\n",
            " * Environment: production\n",
            "\u001b[31m   WARNING: This is a development server. Do not use it in a production deployment.\u001b[0m\n",
            "\u001b[2m   Use a production WSGI server instead.\u001b[0m\n",
            " * Debug mode: off\n"
          ]
        },
        {
          "output_type": "stream",
          "name": "stderr",
          "text": [
            " * Running on http://127.0.0.1:5000/ (Press CTRL+C to quit)\n"
          ]
        },
        {
          "output_type": "stream",
          "name": "stdout",
          "text": [
            " * Running on http://c85f-34-86-189-104.ngrok.io\n",
            " * Traffic stats available on http://127.0.0.1:4040\n"
          ]
        },
        {
          "output_type": "stream",
          "name": "stderr",
          "text": [
            "127.0.0.1 - - [04/Feb/2022 17:51:34] \"\u001b[37mGET / HTTP/1.1\u001b[0m\" 200 -\n"
          ]
        }
      ]
    },
    {
      "cell_type": "code",
      "metadata": {
        "id": "8S14BQmC6NtR"
      },
      "source": [
        "test1=[1 ,'az', 'v' ,'n', 'f' ,'d', 't', 'a', 'w', 0, 0, 0, 0, 0, 0, 0, 0, 0 ,0 ,0 ,0 ,0 ,0 ,0, 0, 1, 1, 1,\n",
        " 0 ,1, 0, 0, 0, 1, 0, 1, 0, 0 ,0 ,0, 0 ,1, 0, 0, 1, 0, 0, 0, 0, 0,0 ,0, 1, 0, 0, 0, 0, 0, 0, 1, 0, 0 ,0, 0, 0,\n",
        " 0, 0 ,0, 1, 0, 0, 1 ,0, 1, 0, 0, 0, 1, 0 ,0, 0, 0 ,0, 0 ,0 ,0, 0, 0 ,0 ,0, 0, 0 ,0, 1 ,0 ,1 ,0 ,0, 1 ,0, 0, 0,\n",
        " 0 ,0, 0 ,0 ,0, 0, 1 ,0 ,0, 1, 0 ,0 ,0, 0, 0, 0, 0, 0, 0, 0 ,0, 0, 1, 0, 0, 0, 1 ,0 ,0, 0, 0, 0 ,0 ,0, 0, 0, 0,\n",
        " 0, 1, 0, 0 ,0 ,1 ,1 ,0 ,0 ,0 ,0 ,0, 0, 1 ,1, 0, 0, 0, 1, 0, 0 ,0 ,1, 0, 0, 0 ,0 ,0 ,0, 0 ,0, 0, 0, 0, 0,1, 0,\n",
        " 0 ,0 ,0 ,0, 1, 0, 0 ,0, 0 ,0 ,0 ,1, 0 ,0 ,0 , 0, 0, 0, 0, 0, 1, 0, 0, 0 ,0 ,1 ,0, 0, 0 ,0, 0, 0,0 ,0 ,1 ,0,\n",
        " 1 ,0, 0 ,1 ,0 ,0 ,0 ,0 ,0, 0, 0 ,0 ,1, 0, 0, 0, 0, 0, 0 ,0 ,0 ,0 ,0 ,0 ,0, 0 ,1 ,0 ,0 ,0 ,1, 0, 0 ,0 ,0, 0, 1,\n",
        " 0 ,0 ,0 ,0 ,0, 0, 0, 0 ,0 ,0, 0 ,0 ,0 ,0 ,0, 1 ,1 ,0 ,0, 1, 0, 0 ,1, 0 ,0, 0, 0, 0, 0, 1, 0, 0, 0 ,0 ,0, 0, 0,\n",
        " 0 ,0 ,0, 0 ,0 ,0, 0 ,0, 0, 1 ,0 ,0, 0, 0, 0, 0, 0, 0, 0, 0, 0 ,0 ,0 ,0 ,0 ,0 ,0, 0 ,0, 0, 0, 0, 0, 1 ,0, 0, 0,\n",
        " 0 ,0 ,1, 0, 0 ,0, 0 ,0, 0, 0, 0 ,0, 0, 0 ,0 ,0, 1, 0, 1 ,0, 0, 0, 0 ,0 ,0 ,0, 1, 0 ,0, 1, 0, 1 ,0, 0 ,0 ,0, 0,\n",
        " 0, 0, 0, 0, 0 ,0 ,0 ,0 ,0, 1, 0 ,0, 0, 0, 0, 0,0]"
      ],
      "execution_count": null,
      "outputs": []
    },
    {
      "cell_type": "code",
      "metadata": {
        "id": "E8FdWESP7BPA"
      },
      "source": [
        "test2=[7, 'az', 'w', 'n', 'c', 'd', 'x', 'j', 'x', 0, 0, 0, 0, 0,\n",
        "       0, 0, 1, 0, 0, 0, 0, 0, 0, 0, 0, 1, 1, 1, 0, 1, 0, 0, 0, 1, 0, 1,\n",
        "       0, 0, 0, 0, 0, 1, 0, 0, 1, 0, 0, 0, 0, 1, 0, 0, 1, 0, 0, 0, 1, 0,\n",
        "       0, 1, 0, 0, 0, 0, 0, 0, 1, 0, 1, 1, 0, 1, 1, 1, 0, 0, 0, 1, 0, 0,\n",
        "       0, 1, 1, 0, 0, 0, 0, 0, 0, 0, 0, 0, 0, 1, 0, 1, 0, 0, 1, 0, 0, 0,\n",
        "       0, 0, 0, 0, 0, 0, 1, 0, 0, 0, 0, 0, 0, 0, 0, 1, 0, 0, 0, 0, 0, 0,\n",
        "       1, 0, 0, 0, 1, 0, 0, 0, 0, 1, 0, 0, 0, 0, 0, 0, 1, 0, 0, 0, 1, 1,\n",
        "       0, 0, 0, 0, 0, 0, 1, 1, 0, 0, 0, 1, 1, 0, 0, 0, 0, 0, 1, 0, 0, 0,\n",
        "       0, 0, 0, 0, 0, 0, 1, 0, 0, 0, 0, 0, 0, 0, 0, 0, 0, 0, 0, 1, 0, 0,\n",
        "       0, 0, 0, 0, 0, 0, 0, 0, 1, 1, 0, 0, 1, 0, 0, 0, 0, 0, 0, 0, 0, 1,\n",
        "       1, 1, 0, 0, 1, 1, 0, 0, 0, 1, 0, 0, 0, 1, 0, 0, 0, 0, 0, 0, 0, 0,\n",
        "       1, 0, 0, 1, 0, 1, 0, 0, 0, 1, 0, 1, 0, 0, 0, 1, 0, 0, 0, 0, 0, 0,\n",
        "       0, 0, 0, 0, 0, 0, 0, 0, 0, 1, 1, 1, 0, 1, 0, 0, 1, 0, 0, 0, 0, 0,\n",
        "       0, 1, 0, 0, 0, 0, 0, 0, 0, 0, 0, 0, 0, 0, 0, 0, 0, 0, 1, 0, 0, 0,\n",
        "       0, 0, 0, 0, 0, 0, 0, 0, 0, 0, 0, 0, 0, 0, 0, 0, 1, 0, 0, 0, 1, 0,\n",
        "       0, 0, 0, 0, 1, 0, 0, 0, 0, 0, 0, 0, 0, 0, 0, 0, 0, 0, 1, 0, 1, 0,\n",
        "       0, 0, 1, 0, 0, 0, 1, 0, 0, 1, 0, 1, 0, 0, 0, 0, 0, 0, 0, 0, 0, 0,\n",
        "       0, 0, 0, 0, 0, 0, 0, 1, 0, 0, 0]"
      ],
      "execution_count": null,
      "outputs": []
    }
  ]
}